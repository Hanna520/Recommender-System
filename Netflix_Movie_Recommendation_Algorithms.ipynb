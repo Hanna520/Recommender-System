{
 "cells": [
  {
   "cell_type": "markdown",
   "metadata": {},
   "source": [
    "CS530 Group Project \n",
    "\n",
    "\n",
    "Hesam Sadri, Celeste Manughian-Peter, Hanna Lu\n",
    "\n",
    "\n",
    "May 23, 2020\n",
    "\n"
   ]
  },
  {
   "cell_type": "markdown",
   "metadata": {},
   "source": [
    "# <h1><center>Netflix Movie Recommendation System</center></h1>"
   ]
  },
  {
   "cell_type": "markdown",
   "metadata": {},
   "source": [
    "# Introduction"
   ]
  },
  {
   "cell_type": "markdown",
   "metadata": {},
   "source": [
    "### 1. Recommendation System\n",
    "\n",
    "A recommendation system, also known as a recommender system, is a subclass of information filtering system taht seeks to predict the rating or preference a user would give to an itme. Main techniques for solving Recommendation systems problems include collaborative filtering, content-based filtering, knowledge-based systems, and hybrid systems (which uses a combination of the collaborative filtering and content-based filtering). \n",
    "\n",
    "The most popular and easiest is collaborative filtering. It builds a model from a user's past behavior (items previously purchased or selected and/or numerical ratings given to those items) as well as similar decisions made by other users. This model is then used to predict items (or ratings for items) that the user may have an interest in. Simply put, it uses past ratings to predict future ratings.\n",
    "\n",
    "Content-based filtering approaches utilize a series of discrete, pre-tagged characteristics of an item in order to recommend additional items with similar properties. For example, recommend movies to cutomers based on the genre or actors of the movies that the customers watched in the past. \n",
    "\n",
    "Recommendation systems are primarily used in commercial applications, and are most commonly recognized as playlist generators for video and music services such as Netflix, Spotify, and YouTube, product recommendations for services such as Amazon, or content recommendations for social media platforms such as Facebook and Twitter. Other popular applicatins of recommendation systems include areas such as restaurant recommendations such as Yelp and online dating such as Match.com. Current recommendation systems typically combine one or more approaches into a hybrid system.\n",
    "\n",
    "Given observations (ratings) of a user’s past behavior, the aim is to predict which other things that same user will like (movies) using serveral algorithms to create a recommendation system. Most internet products we use today are powered by recommendation systems. Commercial applications such as Youtube, Netflix, Spotify rely on recommendation systems to generate playlist for their customers. Social media platforms such as Facebook and Twitter rely on recommendation systems to recommend content for their customers. Commercial websites such as Amazon and Pinterest rely on recommendation systems to recommend product or services. Other commercial applications that utilize recommendation systems include Yelp, Match.com, and more.\n",
    "\n",
    "\n",
    "### 2. Collaborative Filtering\n",
    "\n",
    "Generally speaking, collaborative filtering is the process of filtering for information or patterns using techniques involving collaboration among multiple agents, viewpoints, data sources, etc. It is a method of making automatic predictions (filtering) about the interests of a user by collecting preferences or taste information from many users (collaborating). [Wikipedia]\n",
    "\n",
    "There are two forms of collaborative Filtering, item-based and user-based collaborative filtering. The main idea behind the user-based collaborative filtering is that people with similar characteristics share similar taste. Item-based collaborative filtering, as suggested by its name, is based on the similarity between items calculated using people's ratings of those items. \n",
    "\n",
    "The picture below shows the differnce of the two forms of collaborative filtering.\n",
    "<img src=\"./files/rec_system\">"
   ]
  },
  {
   "cell_type": "markdown",
   "metadata": {},
   "source": [
    "### 3. Similarity Calcuation\n",
    "\n",
    "Both user-based and item-based collaborative filtering techniques utilizes the similarity between users or items. There are different ways to calcuate the simmilarities. Below are some most commonly used methods.\n",
    "\n",
    "#### 3.1 Cosine Similarity\n",
    "<img src=\"./files/cosine.png\">\n",
    "\n",
    "Where u,v indicate users u and v, i,j indicate items i and j, and r indicates ratings. Therefore, the first similarity is for user-based similarity, and the second is the item-based the similarity.\n",
    "\n",
    "#### 3.2 Mean Squared Distance (MSD) Similarity\n",
    "<img src=\"./files/msd.png\">\n",
    "\n",
    "#### 3.2 Pearson Similarity\n",
    "<img src=\"./files/pearson.png\">"
   ]
  },
  {
   "cell_type": "markdown",
   "metadata": {},
   "source": [
    "# The Problem "
   ]
  },
  {
   "cell_type": "markdown",
   "metadata": {
    "_cell_guid": "b1076dfc-b9ad-4769-8c92-a6c4dae69d19",
    "_uuid": "8f2839f25d086af736a60e9eeb907d3b93b6e0e5"
   },
   "source": [
    "Netflix held the Netflix Prize open competition for the best algorithm to predict user ratings for films. The grand prize was $1,000,000 and was won by BellKor's Pragmatic Chaos team. This is the dataset that was used in that competition.  \n",
    "\n",
    "We aimed to build a movie recommendation mechanism with movie ratings from Netflix users. The dataset comes directly from Netflix, and is available on Kaggle. This is a typical recommendation system problem, and the appropriate technique for this porblem is collaborative filtering since we only have the ratings information available.\n",
    "\n",
    "### 1. Dataset Overview \n",
    "\n",
    "The data consists of four text data files, each file containing over 20 million rows (over 4K movies and 400K customers). All together, over 17K movies and 500K+ customers! \n",
    "From Kaggle.com we obtained 17,770 movies, and 480,189 customers. Each customer rates multiple movies. There were 5 datasets: \n",
    "\n",
    "* Movie Title dataset (17,770 rows, 3 features: Movie ID, Year of Release, Title)\n",
    "* 4 Ratings datasets (over 100 million rows with 3 features: Customer ID, Rating, Date)\n",
    "\n",
    "We used subsets of the data due to memory limitations:\n",
    "* 400 movie subset (over 2 million rows)\n",
    "* 700 movie subset (over 3.5  million rows)\n",
    "* 1000 movie subset (over 5 million rows)\n",
    "\n",
    "\n",
    "### 2. Training Dataset Description \n",
    "\n",
    "The file \"training_set.tar\" is a tar of a directory containing 17770 files, one\n",
    "per movie. The first line of each file contains the movie ID, followed by a\n",
    "colon. Each subsequent line in the file corresponds to a rating from a customer\n",
    "and its date in the following format:\n",
    "\n",
    "CustomerID, Rating, Date\n",
    "\n",
    "    MovieIDs range from 1 to 17770 sequentially.\n",
    "    CustomerIDs range from 1 to 2649429, with gaps. There are 480189 users.\n",
    "    Ratings are on a five star (integral) scale from 1 to 5.\n",
    "    Dates have the format YYYY-MM-DD.\n",
    "    \n",
    "\n",
    "\n",
    "### 3. Movies File Description \n",
    "\n",
    "Movie information in \"movie_titles.txt\" is in the following format:\n",
    "\n",
    "MovieID, YearOfRelease, Title\n",
    "\n",
    "    MovieID do not correspond to actual Netflix movie ids or IMDB movie ids.\n",
    "    YearOfRelease can range from 1890 to 2005 and may correspond to the release of\n",
    "    corresponding DVD, not necessarily its theaterical release.\n",
    "    Title is the Netflix movie title and may not correspond to\n",
    "    titles used on other sites. Titles are in English.\n",
    "    QUALIFYING AND PREDICTION DATASET FILE DESCRIPTION:\n",
    "\n",
    "The qualifying dataset for the Netflix Prize is contained in the text file \"qualifying.txt\". It consists of lines indicating a movie id, followed by a colon, and then customer ids and rating dates, one per line for that movie id. The movie and customer ids are contained in the training set. Of course the\n",
    "ratings are withheld. There are no empty lines in the file. It is presented in the following format:\n",
    "\n",
    "    MovieID1:\n",
    "    CustomerID11,Date11\n",
    "    CustomerID12,Date12\n",
    "    \n",
    "    …\n",
    "    \n",
    "    MovieID2:\n",
    "    CustomerID21,Date21\n",
    "    CustomerID22,Date22\n",
    "\n",
    "For the Netflix Prize, the algorithm must predict the all ratings the customers gave the movies in the qualifying dataset based on the information in the training dataset.\n",
    "tc.\n",
    "\n",
    "The dataset and other information about the problem can be seen here: https://www.kaggle.com/netflix-inc/netflix-prize-data"
   ]
  },
  {
   "cell_type": "markdown",
   "metadata": {},
   "source": [
    "# Data Preprocessing and Visualization"
   ]
  },
  {
   "cell_type": "markdown",
   "metadata": {},
   "source": [
    "### Loading the data"
   ]
  },
  {
   "cell_type": "code",
   "execution_count": 9,
   "metadata": {},
   "outputs": [],
   "source": [
    "import random\n",
    "import pandas as pd\n",
    "import numpy as np\n",
    "import math\n",
    "import re\n",
    "import matplotlib.pyplot as plt\n",
    "import seaborn as sns\n",
    "\n",
    "from scipy.sparse import csr_matrix # pivot ratings into movie features\n",
    "from scipy import sparse\n",
    "\n",
    "from sklearn.metrics.pairwise import cosine_similarity\n",
    "import sklearn.preprocessing as pp\n",
    "from sklearn.metrics.pairwise import cosine_similarity\n",
    "\n",
    "\n",
    "from surprise import Reader, Dataset,SlopeOne, SVD ,accuracy,Trainset,KNNWithMeans,KNNBasic,BaselineOnly,CoClustering,SVDpp,NMF,KNNBaseline\n",
    "from surprise.model_selection import train_test_split,cross_validate,GridSearchCV\n",
    "from surprise import accuracy\n",
    "from surprise import Reader, Dataset, SVD # pip install scikit-surprise\n",
    "\n",
    "movies = pd.read_csv('movie_titles.csv', \n",
    "                     header = None, \n",
    "                     usecols = [0,1,2], \n",
    "                     names = ['MovieID', 'YearOfRelease', 'Title'],\n",
    "                     encoding='latin1')\n",
    "\n",
    "df = pd.read_csv('combined_data_1.txt', \n",
    "                  names = ['Cust_Id', 'Rating'], \n",
    "                  usecols = [0,1])"
   ]
  },
  {
   "cell_type": "markdown",
   "metadata": {},
   "source": [
    "### Pre-processing the data\n",
    "\n",
    "The data set from Kaggle is clean with no missing values and no outliers, so not much preprocessing needed to be done. \n",
    "\n",
    "Reformatting the ratings data was necessary. Ratings are stored in 4 datasets, which needed to be combined. The Movie ID in the ratings dataset were mixed in the rows. We extracted the Movie ID and assigned them to rows in the ratings dataset using a pivot operation. \n",
    "\n",
    "Reformatting the dataframe into a sparse matrix was also necessary for the manual implementation of KNN. "
   ]
  },
  {
   "cell_type": "code",
   "execution_count": 232,
   "metadata": {
    "collapsed": true
   },
   "outputs": [
    {
     "ename": "NameError",
     "evalue": "name 'df' is not defined",
     "output_type": "error",
     "traceback": [
      "\u001b[1;31m---------------------------------------------------------------------------\u001b[0m",
      "\u001b[1;31mNameError\u001b[0m                                 Traceback (most recent call last)",
      "\u001b[1;32m<ipython-input-232-ef4d3049ebc6>\u001b[0m in \u001b[0;36m<module>\u001b[1;34m\u001b[0m\n\u001b[0;32m      1\u001b[0m \u001b[1;31m# Preprocess datasets here\u001b[0m\u001b[1;33m\u001b[0m\u001b[1;33m\u001b[0m\u001b[1;33m\u001b[0m\u001b[0m\n\u001b[1;32m----> 2\u001b[1;33m \u001b[0mnan\u001b[0m \u001b[1;33m=\u001b[0m \u001b[0mpd\u001b[0m\u001b[1;33m.\u001b[0m\u001b[0mDataFrame\u001b[0m\u001b[1;33m(\u001b[0m\u001b[0mpd\u001b[0m\u001b[1;33m.\u001b[0m\u001b[0misnull\u001b[0m\u001b[1;33m(\u001b[0m\u001b[0mdf\u001b[0m\u001b[1;33m[\u001b[0m\u001b[1;34m'Rating'\u001b[0m\u001b[1;33m]\u001b[0m\u001b[1;33m)\u001b[0m\u001b[1;33m)\u001b[0m\u001b[1;33m\u001b[0m\u001b[1;33m\u001b[0m\u001b[0m\n\u001b[0m\u001b[0;32m      3\u001b[0m \u001b[0mmovie_id\u001b[0m \u001b[1;33m=\u001b[0m \u001b[0mdf\u001b[0m\u001b[1;33m[\u001b[0m\u001b[0mnan\u001b[0m\u001b[1;33m[\u001b[0m\u001b[1;34m'Rating'\u001b[0m\u001b[1;33m]\u001b[0m \u001b[1;33m==\u001b[0m \u001b[1;32mTrue\u001b[0m\u001b[1;33m]\u001b[0m\u001b[1;33m[\u001b[0m\u001b[1;34m'Cust_Id'\u001b[0m\u001b[1;33m]\u001b[0m\u001b[1;33m\u001b[0m\u001b[1;33m\u001b[0m\u001b[0m\n\u001b[0;32m      4\u001b[0m \u001b[1;33m\u001b[0m\u001b[0m\n\u001b[0;32m      5\u001b[0m \u001b[1;31m# Take 400 movies\u001b[0m\u001b[1;33m\u001b[0m\u001b[1;33m\u001b[0m\u001b[1;33m\u001b[0m\u001b[0m\n",
      "\u001b[1;31mNameError\u001b[0m: name 'df' is not defined"
     ]
    }
   ],
   "source": [
    "# Preprocess datasets here\n",
    "nan = pd.DataFrame(pd.isnull(df['Rating']))\n",
    "movie_id = df[nan['Rating'] == True]['Cust_Id']\n",
    "\n",
    "# Take 400 movies\n",
    "df_400 = df.iloc[:2112852,]\n",
    "m_id = movie_id.iloc[:401,]\n",
    "\n",
    "# Use the index of the movies to generate Movie IDs corresponding to the rows (cutomer IDs)\n",
    "Movie_ID = []\n",
    "for i in range(1,401):\n",
    "    Movie_ID.append((m_id.index[i]-m_id.index[i-1])*[i])\n",
    "MovieID = sum(Movie_ID, [])\n",
    "\n",
    "# Assign the Movie IDs to the rows\n",
    "df_400['MovieID'] = MovieID\n",
    "\n",
    "# Delete the rows with the original Movie IDs\n",
    "df_400_1 = df_400.dropna()"
   ]
  },
  {
   "cell_type": "code",
   "execution_count": 113,
   "metadata": {},
   "outputs": [
    {
     "name": "stdout",
     "output_type": "stream",
     "text": [
      "Cust_Id    0\n",
      "Rating     0\n",
      "MovieID    0\n",
      "dtype: int64\n",
      "(2112452, 3)\n"
     ]
    },
    {
     "data": {
      "text/html": [
       "<div>\n",
       "<style scoped>\n",
       "    .dataframe tbody tr th:only-of-type {\n",
       "        vertical-align: middle;\n",
       "    }\n",
       "\n",
       "    .dataframe tbody tr th {\n",
       "        vertical-align: top;\n",
       "    }\n",
       "\n",
       "    .dataframe thead th {\n",
       "        text-align: right;\n",
       "    }\n",
       "</style>\n",
       "<table border=\"1\" class=\"dataframe\">\n",
       "  <thead>\n",
       "    <tr style=\"text-align: right;\">\n",
       "      <th></th>\n",
       "      <th>Cust_Id</th>\n",
       "      <th>Rating</th>\n",
       "      <th>MovieID</th>\n",
       "    </tr>\n",
       "  </thead>\n",
       "  <tbody>\n",
       "    <tr>\n",
       "      <th>1</th>\n",
       "      <td>1488844</td>\n",
       "      <td>3.0</td>\n",
       "      <td>1</td>\n",
       "    </tr>\n",
       "    <tr>\n",
       "      <th>2</th>\n",
       "      <td>822109</td>\n",
       "      <td>5.0</td>\n",
       "      <td>1</td>\n",
       "    </tr>\n",
       "    <tr>\n",
       "      <th>3</th>\n",
       "      <td>885013</td>\n",
       "      <td>4.0</td>\n",
       "      <td>1</td>\n",
       "    </tr>\n",
       "    <tr>\n",
       "      <th>4</th>\n",
       "      <td>30878</td>\n",
       "      <td>4.0</td>\n",
       "      <td>1</td>\n",
       "    </tr>\n",
       "    <tr>\n",
       "      <th>5</th>\n",
       "      <td>823519</td>\n",
       "      <td>3.0</td>\n",
       "      <td>1</td>\n",
       "    </tr>\n",
       "  </tbody>\n",
       "</table>\n",
       "</div>"
      ],
      "text/plain": [
       "   Cust_Id  Rating  MovieID\n",
       "1  1488844     3.0        1\n",
       "2   822109     5.0        1\n",
       "3   885013     4.0        1\n",
       "4    30878     4.0        1\n",
       "5   823519     3.0        1"
      ]
     },
     "metadata": {},
     "output_type": "display_data"
    }
   ],
   "source": [
    "print(df_400_1.isnull().sum()) # Check for missing values\n",
    "print(df_400_1.shape) # Check for number of rows in the subset\n",
    "display(df_400_1.head())"
   ]
  },
  {
   "cell_type": "code",
   "execution_count": 114,
   "metadata": {},
   "outputs": [],
   "source": [
    "# Free up some memory\n",
    "# del nan\n",
    "# del df_100\n",
    "# del df_400"
   ]
  },
  {
   "cell_type": "markdown",
   "metadata": {},
   "source": [
    "### Exploratory Data Analysis\n",
    "\n",
    "To check for outliers and gauge the overall characteristics of our data subsets, we developed a few plots. The first plot shows the distribution of movie ratings in one of the data subsets using 400 movies. This distribution is mirrored in larger subsets of dataset.\n"
   ]
  },
  {
   "cell_type": "code",
   "execution_count": 116,
   "metadata": {},
   "outputs": [
    {
     "data": {
      "image/png": "[encoded data removed]",
      "text/plain": [
       "<Figure size 1080x360 with 1 Axes>"
      ]
     },
     "metadata": {},
     "output_type": "display_data"
    }
   ],
   "source": [
    "plt.figure(figsize=(15,5))\n",
    "sns.set(rc={'text.color':\"white\", \n",
    "            'axes.labelcolor': 'white', \n",
    "            'xtick.color': 'white', \n",
    "            'ytick.color': 'white', \n",
    "            'axes.facecolor': '#949fb5',\n",
    "            'figure.facecolor': '#2a3242'}, \n",
    "        font_scale=1.5, palette='husl')\n",
    "sns.countplot(df_400_1.Rating)\n",
    "_ = plt.title(\"Distribution of Ratings in 400-movie subset\")"
   ]
  },
  {
   "cell_type": "markdown",
   "metadata": {},
   "source": [
    "The next plot shows the distribution of total ratings per movie vs average rating for movie. We expect the majority of movies to have a few thousand ratings and the rest are much less known with little or no user-interactions. We can see that each movie have between e^4-e^12 ratings from customers (54 - 164,000) and most movies have an average rating around 3.6 with a standard deviation 1.1."
   ]
  },
  {
   "cell_type": "code",
   "execution_count": 117,
   "metadata": {},
   "outputs": [
    {
     "data": {
      "image/png": "[encoded data removed]",
      "text/plain": [
       "<Figure size 1080x432 with 1 Axes>"
      ]
     },
     "metadata": {},
     "output_type": "display_data"
    }
   ],
   "source": [
    "import seaborn as sns\n",
    "sns.set(rc={'text.color':\"white\", \n",
    "            'axes.labelcolor': 'white', \n",
    "            'xtick.color': 'white', \n",
    "            'ytick.color': 'white', \n",
    "            'axes.facecolor': '#949fb5',\n",
    "            'figure.facecolor': '#2a3242'}, \n",
    "        font_scale=1.5, palette='Greens')\n",
    "count_rating = df_400_1.groupby(['MovieID'])['Rating'].agg(['count','mean'])\n",
    "plt.figure(figsize=(15,6))\n",
    "sns.scatterplot(np.log(count_rating['count']), count_rating['mean'])\n",
    "plt.xlabel('Log ( Number of Total Ratings for Movie )')\n",
    "plt.ylabel('Average Rating for Movie')\n",
    "plt.title('Number of Ratings vs Rating Score for Each Movie')\n",
    "plt.show()"
   ]
  },
  {
   "cell_type": "markdown",
   "metadata": {},
   "source": [
    "# Model Construction"
   ]
  },
  {
   "cell_type": "markdown",
   "metadata": {},
   "source": [
    "For this project, we went through a few different algorithms to analyze the effectiveness of each: \n",
    "* SVD (Singular Value Decomposition)\n",
    "* SVD++ (SVD Plus Plus)\n",
    "* NMF (Non-negative Matrix Factorization)\n",
    "* BaselineOnly\n",
    "* SlopeOne\n",
    "* KNNBasic\n",
    "* KNNBaseline\n",
    "* KNNWithMeans\n",
    "\n",
    "We ran these with several varying size subsets, 400, 700 and 1000 movies. We only include the 400-movie subset in this notebook and a link to the other notebooks with more detailed runs, since those take a long time to run. \n",
    "\n",
    "### Collaborative filtering \n",
    "\n",
    "Each of these algorithms are collaborative filtering techniques. We chose collaborative filtering because it is one step beyond what we learned in class, and can be implemented in combinations with algorithms we learned to create a recommendation system. Collaborative filtering is based on the assumption that people who agreed in the past will agree in the future, and that they will like similar kinds of items as they liked in the past. When we want to recommend something to a user, the most logical thing to do is to find people with similar interests, analyze their behavior, and recommend our user the same items (user based) or we can look at the items similar to ones which the user bought earlier, and recommend products which are like them (item based). In both cases this recommendation engine has two steps: \n",
    "\n",
    "1. Find out how many users/items in the database are similar to the given user/item.\n",
    "2. Assess other users/items to predict what grade you would give the user of this product, given the total weight of the users/items that are more similar to this one\n",
    "\n",
    "This kind of recommendation system can be implemented with each of these algorithms. For our model construction, we mostly used the scikit surprise package, with the exception of the handwritten KNN collaborative filtering algorithm implementation. Surprise stands for Simple Python RecommendatIon Systems Engine. We also used gridsearch to tune all of the algorithms hyperparameters (3 data subset sizes * 9 algorithms). \n",
    "\n",
    "In the end, we eneded up fitting 81 models (3 sizes * 3 slices * 9 algorithms), and RMSE was used to evaluate the models. \n",
    "\n",
    "\n",
    "#### SVD \n",
    "\n",
    "SVD stands for singular value decomoposition. This is a matrix factorization algorithm, where the main assumption is that there exists a pretty low dimensional latent space of features in which we can represent both users and items. The interaction between a user and an item can be obtained by computing the dot product of corresponding dense vectors in that space. We don’t want to give explicitly these features to our model, so this lets the system discover these useful features by itself and make its own representations of both users and items.\n",
    "\n",
    "As they are learned and not given, extracted features taken individually have a mathematical meaning but no intuitive interpretation (and, so, are difficult, if not impossible, to understand as human). However, it is not unusual to end up having structures that are extremely close to an intuitive decomposition that a human interpret. The consequence of factorisation is that users that are similar in terms of preferences and characteristics have close representations in the latent space. \n",
    "\n",
    "#### SVD++\n",
    "\n",
    "SVD++ is an improvement to the SVD algorithm, which had the best performance in the Netflix competition. Modern day recommender systems should exploit all available interactions: both explicit (e.g. numerical ratings) and implicit (e.g. likes, purchases, skipped, bookmarked). To this end, SVD++ was designed to take into account implicit interactions as well.\n",
    "\n",
    "In our case, an implicit rating describes the fact that user u rated a movie i, regardless of the rating value. In other words, the information of whether or not a user rated a movie is also taken into account in the SVD++ model. \n",
    "\n",
    "#### NMF \n",
    "\n",
    "NMF is another collaborative filtering algorithm based on Non-negative Matrix Factorization. This algorithm is very similar to SVD. We use the surprise package to run their implementation of it with our data. SVD results are more deterministic compared to that of NMF. SVD is a more 'insightful' factorization technique. NMF gives only U and V matrices, but SVD gives a Sigma matrix also along with these two. Sigma gives us insights into the amount of information each eigen vector holds. \n",
    "\n",
    " \n",
    "#### Slope One\n",
    "\n",
    "Slope One is actually a group of algorithms used for collaborative filtering. It was published in a 2005 paper by Daniel Lemire and Anna Maclachlan. It's the simplest form of non-trivial item-based collaborative filtering based on ratings. This algorithm's simplicity makes it very easy to implement efficiently while it's accuracy is often on par with more complicated and computationally-expensive algorithms. They have also been used as building blocks to improve other algorithms. \n",
    "\n",
    "It uses a simple form of linear regression to predict ratings. \n",
    "\n",
    "\n",
    "#### CoClustering\n",
    "\n",
    "With this algorithm, users and items are assigned some clusters Cu, Ci, and some co-clusters C_ui. This algorithm is beneficial because it is less computationally expensive than SVD. With this algorithm, it is possible to obtain an accuracy comparable to that of the correlation and matrix factorization based approaches at a much lower computational cost.\n",
    "\n",
    "\n",
    "#### KNN\n",
    "\n",
    "For a recommendation system, KNN can be used with collaborative filtering. This works by computing the similarity between all users with a specific distance metric. In our case, we used the cosine similarity to compute the user similarity matrix. With this matrix, an equation, shown in our implementaiton below, can be used to compute the estimated rating for movie i given the K nearest users to a user, along with their ratings. \n",
    "\n",
    "### GridSearch\n",
    "\n",
    "We use gridsearch on a subset of the data to find the optimal hyperparameters, and run the algorithm(s) with those hyperparameters on bigger data sets, since gridsearch was too memory intensive to run on those bigger data sets. "
   ]
  },
  {
   "cell_type": "markdown",
   "metadata": {},
   "source": [
    "### KNN with Collaborative Filtering By Hand"
   ]
  },
  {
   "cell_type": "markdown",
   "metadata": {},
   "source": [
    "Initially we tried KNN with collaborative filtering by hand, in hopes to optimize the memory usage with a sparse matrix. Then we moved on to use the KNNBaseline algorithm, which is the same as the by hand implementation, since this turns out to be faster. "
   ]
  },
  {
   "cell_type": "code",
   "execution_count": 123,
   "metadata": {},
   "outputs": [
    {
     "name": "stderr",
     "output_type": "stream",
     "text": [
      "/home/celeste/.local/lib/python3.6/site-packages/pandas/core/generic.py:5303: SettingWithCopyWarning: \n",
      "A value is trying to be set on a copy of a slice from a DataFrame.\n",
      "Try using .loc[row_indexer,col_indexer] = value instead\n",
      "\n",
      "See the caveats in the documentation: https://pandas.pydata.org/pandas-docs/stable/user_guide/indexing.html#returning-a-view-versus-a-copy\n",
      "  self[name] = value\n"
     ]
    },
    {
     "data": {
      "text/html": [
       "<div>\n",
       "<style scoped>\n",
       "    .dataframe tbody tr th:only-of-type {\n",
       "        vertical-align: middle;\n",
       "    }\n",
       "\n",
       "    .dataframe tbody tr th {\n",
       "        vertical-align: top;\n",
       "    }\n",
       "\n",
       "    .dataframe thead th {\n",
       "        text-align: right;\n",
       "    }\n",
       "</style>\n",
       "<table border=\"1\" class=\"dataframe\">\n",
       "  <thead>\n",
       "    <tr style=\"text-align: right;\">\n",
       "      <th>MovieID</th>\n",
       "      <th>Isle of Man TT 2004 Review</th>\n",
       "      <th>Character</th>\n",
       "      <th>Paula Abdul's Get Up &amp; Dance</th>\n",
       "      <th>The Rise and Fall of ECW</th>\n",
       "      <th>Sick</th>\n",
       "      <th>8 Man</th>\n",
       "      <th>What the #$*! Do We Know!?</th>\n",
       "      <th>Class of Nuke 'Em High 2</th>\n",
       "      <th>Fighter</th>\n",
       "      <th>Full Frame: Documentary Shorts</th>\n",
       "      <th>...</th>\n",
       "      <th>Chump Change</th>\n",
       "      <th>Clifford: Clifford Saves the Day! / Clifford's Fluffiest Friend Cleo</th>\n",
       "      <th>My Bloody Valentine</th>\n",
       "      <th>Inspector Morse 31: Death Is Now My Neighbour</th>\n",
       "      <th>Never Die Alone</th>\n",
       "      <th>Sesame Street: Elmo's World: The Street We Live On</th>\n",
       "      <th>Lilo and Stitch</th>\n",
       "      <th>Boycott</th>\n",
       "      <th>Something's Gotta Give</th>\n",
       "      <th>Classic Albums: Meat Loaf: Bat Out of Hell</th>\n",
       "    </tr>\n",
       "    <tr>\n",
       "      <th>Cust_Id</th>\n",
       "      <th></th>\n",
       "      <th></th>\n",
       "      <th></th>\n",
       "      <th></th>\n",
       "      <th></th>\n",
       "      <th></th>\n",
       "      <th></th>\n",
       "      <th></th>\n",
       "      <th></th>\n",
       "      <th></th>\n",
       "      <th></th>\n",
       "      <th></th>\n",
       "      <th></th>\n",
       "      <th></th>\n",
       "      <th></th>\n",
       "      <th></th>\n",
       "      <th></th>\n",
       "      <th></th>\n",
       "      <th></th>\n",
       "      <th></th>\n",
       "      <th></th>\n",
       "    </tr>\n",
       "  </thead>\n",
       "  <tbody>\n",
       "    <tr>\n",
       "      <th>7</th>\n",
       "      <td>0.0</td>\n",
       "      <td>0.0</td>\n",
       "      <td>0.0</td>\n",
       "      <td>0.0</td>\n",
       "      <td>0.0</td>\n",
       "      <td>0.0</td>\n",
       "      <td>0.0</td>\n",
       "      <td>5.0</td>\n",
       "      <td>0.0</td>\n",
       "      <td>0.0</td>\n",
       "      <td>...</td>\n",
       "      <td>0.0</td>\n",
       "      <td>0.0</td>\n",
       "      <td>0.0</td>\n",
       "      <td>0.0</td>\n",
       "      <td>0.0</td>\n",
       "      <td>0.0</td>\n",
       "      <td>0.0</td>\n",
       "      <td>4.0</td>\n",
       "      <td>0.0</td>\n",
       "      <td>0.0</td>\n",
       "    </tr>\n",
       "    <tr>\n",
       "      <th>42</th>\n",
       "      <td>0.0</td>\n",
       "      <td>0.0</td>\n",
       "      <td>0.0</td>\n",
       "      <td>0.0</td>\n",
       "      <td>0.0</td>\n",
       "      <td>0.0</td>\n",
       "      <td>0.0</td>\n",
       "      <td>0.0</td>\n",
       "      <td>0.0</td>\n",
       "      <td>0.0</td>\n",
       "      <td>...</td>\n",
       "      <td>0.0</td>\n",
       "      <td>0.0</td>\n",
       "      <td>0.0</td>\n",
       "      <td>0.0</td>\n",
       "      <td>0.0</td>\n",
       "      <td>0.0</td>\n",
       "      <td>0.0</td>\n",
       "      <td>0.0</td>\n",
       "      <td>0.0</td>\n",
       "      <td>4.0</td>\n",
       "    </tr>\n",
       "    <tr>\n",
       "      <th>59</th>\n",
       "      <td>0.0</td>\n",
       "      <td>0.0</td>\n",
       "      <td>0.0</td>\n",
       "      <td>0.0</td>\n",
       "      <td>0.0</td>\n",
       "      <td>0.0</td>\n",
       "      <td>0.0</td>\n",
       "      <td>0.0</td>\n",
       "      <td>0.0</td>\n",
       "      <td>0.0</td>\n",
       "      <td>...</td>\n",
       "      <td>0.0</td>\n",
       "      <td>0.0</td>\n",
       "      <td>0.0</td>\n",
       "      <td>0.0</td>\n",
       "      <td>0.0</td>\n",
       "      <td>0.0</td>\n",
       "      <td>0.0</td>\n",
       "      <td>0.0</td>\n",
       "      <td>0.0</td>\n",
       "      <td>2.0</td>\n",
       "    </tr>\n",
       "    <tr>\n",
       "      <th>134</th>\n",
       "      <td>0.0</td>\n",
       "      <td>0.0</td>\n",
       "      <td>0.0</td>\n",
       "      <td>0.0</td>\n",
       "      <td>0.0</td>\n",
       "      <td>0.0</td>\n",
       "      <td>0.0</td>\n",
       "      <td>0.0</td>\n",
       "      <td>0.0</td>\n",
       "      <td>0.0</td>\n",
       "      <td>...</td>\n",
       "      <td>0.0</td>\n",
       "      <td>0.0</td>\n",
       "      <td>0.0</td>\n",
       "      <td>0.0</td>\n",
       "      <td>0.0</td>\n",
       "      <td>0.0</td>\n",
       "      <td>0.0</td>\n",
       "      <td>5.0</td>\n",
       "      <td>0.0</td>\n",
       "      <td>0.0</td>\n",
       "    </tr>\n",
       "    <tr>\n",
       "      <th>199</th>\n",
       "      <td>0.0</td>\n",
       "      <td>0.0</td>\n",
       "      <td>0.0</td>\n",
       "      <td>0.0</td>\n",
       "      <td>0.0</td>\n",
       "      <td>0.0</td>\n",
       "      <td>0.0</td>\n",
       "      <td>0.0</td>\n",
       "      <td>0.0</td>\n",
       "      <td>0.0</td>\n",
       "      <td>...</td>\n",
       "      <td>0.0</td>\n",
       "      <td>0.0</td>\n",
       "      <td>0.0</td>\n",
       "      <td>0.0</td>\n",
       "      <td>0.0</td>\n",
       "      <td>0.0</td>\n",
       "      <td>0.0</td>\n",
       "      <td>0.0</td>\n",
       "      <td>0.0</td>\n",
       "      <td>5.0</td>\n",
       "    </tr>\n",
       "  </tbody>\n",
       "</table>\n",
       "<p>5 rows × 30 columns</p>\n",
       "</div>"
      ],
      "text/plain": [
       "MovieID  Isle of Man TT 2004 Review  Character  Paula Abdul's Get Up & Dance  \\\n",
       "Cust_Id                                                                        \n",
       "7                               0.0        0.0                           0.0   \n",
       "42                              0.0        0.0                           0.0   \n",
       "59                              0.0        0.0                           0.0   \n",
       "134                             0.0        0.0                           0.0   \n",
       "199                             0.0        0.0                           0.0   \n",
       "\n",
       "MovieID  The Rise and Fall of ECW  Sick  8 Man  What the #$*! Do We Know!?  \\\n",
       "Cust_Id                                                                      \n",
       "7                             0.0   0.0    0.0                         0.0   \n",
       "42                            0.0   0.0    0.0                         0.0   \n",
       "59                            0.0   0.0    0.0                         0.0   \n",
       "134                           0.0   0.0    0.0                         0.0   \n",
       "199                           0.0   0.0    0.0                         0.0   \n",
       "\n",
       "MovieID  Class of Nuke 'Em High 2  Fighter  Full Frame: Documentary Shorts  \\\n",
       "Cust_Id                                                                      \n",
       "7                             5.0      0.0                             0.0   \n",
       "42                            0.0      0.0                             0.0   \n",
       "59                            0.0      0.0                             0.0   \n",
       "134                           0.0      0.0                             0.0   \n",
       "199                           0.0      0.0                             0.0   \n",
       "\n",
       "MovieID  ...  Chump Change  \\\n",
       "Cust_Id  ...                 \n",
       "7        ...           0.0   \n",
       "42       ...           0.0   \n",
       "59       ...           0.0   \n",
       "134      ...           0.0   \n",
       "199      ...           0.0   \n",
       "\n",
       "MovieID  Clifford: Clifford Saves the Day! / Clifford's Fluffiest Friend Cleo  \\\n",
       "Cust_Id                                                                         \n",
       "7                                                      0.0                      \n",
       "42                                                     0.0                      \n",
       "59                                                     0.0                      \n",
       "134                                                    0.0                      \n",
       "199                                                    0.0                      \n",
       "\n",
       "MovieID  My Bloody Valentine  Inspector Morse 31: Death Is Now My Neighbour  \\\n",
       "Cust_Id                                                                       \n",
       "7                        0.0                                            0.0   \n",
       "42                       0.0                                            0.0   \n",
       "59                       0.0                                            0.0   \n",
       "134                      0.0                                            0.0   \n",
       "199                      0.0                                            0.0   \n",
       "\n",
       "MovieID  Never Die Alone  Sesame Street: Elmo's World: The Street We Live On  \\\n",
       "Cust_Id                                                                        \n",
       "7                    0.0                                                0.0    \n",
       "42                   0.0                                                0.0    \n",
       "59                   0.0                                                0.0    \n",
       "134                  0.0                                                0.0    \n",
       "199                  0.0                                                0.0    \n",
       "\n",
       "MovieID  Lilo and Stitch  Boycott  Something's Gotta Give  \\\n",
       "Cust_Id                                                     \n",
       "7                    0.0      4.0                     0.0   \n",
       "42                   0.0      0.0                     0.0   \n",
       "59                   0.0      0.0                     0.0   \n",
       "134                  0.0      5.0                     0.0   \n",
       "199                  0.0      0.0                     0.0   \n",
       "\n",
       "MovieID  Classic Albums: Meat Loaf: Bat Out of Hell  \n",
       "Cust_Id                                              \n",
       "7                                               0.0  \n",
       "42                                              4.0  \n",
       "59                                              2.0  \n",
       "134                                             0.0  \n",
       "199                                             5.0  \n",
       "\n",
       "[5 rows x 30 columns]"
      ]
     },
     "metadata": {},
     "output_type": "display_data"
    }
   ],
   "source": [
    "df_100_noNA = df_400_1.iloc[:352871,] # Just take the first 100 movies since it can't handle too many\n",
    "df_100_noNA.Rating = df_100_noNA.Rating.astype('int32')\n",
    "df_100_noNA.Cust_Id = df_100_noNA.Cust_Id.astype('int32')\n",
    "df_100_noNA.reset_index(inplace=True, drop=True)\n",
    "\n",
    "fourth = 125235\n",
    "df_movie_features = df_100_noNA[:fourth].pivot(\n",
    "                index='MovieID',\n",
    "                columns='Cust_Id',\n",
    "                values='Rating').fillna(0)\n",
    "df_movie_features.index = df_movie_features.index.map(movies.Title) # Map the movie ID to movie Title \n",
    "\n",
    "df_fts = df_movie_features.transpose() \n",
    "df_fts = df_fts[:12523]\n",
    "df_sparse = sparse.csr_matrix(df_fts.transpose())\n",
    "\n",
    "display(df_fts.head())"
   ]
  },
  {
   "cell_type": "code",
   "execution_count": null,
   "metadata": {},
   "outputs": [],
   "source": [
    "# # Free up some memory for the cosine similarity computation \n",
    "# del mat_movie_features\n",
    "del df_100\n",
    "del movie_id\n",
    "del df\n",
    "del movies\n",
    "del df_100_noNA"
   ]
  },
  {
   "cell_type": "code",
   "execution_count": 132,
   "metadata": {},
   "outputs": [],
   "source": [
    "# Use cosine similarity to measure the similarity between users\n",
    "def cosine_similarities(mat):\n",
    "    col_normed_mat = pp.normalize(mat.tocsc(), axis=0)  # scipy.sparse.csc_matrix\n",
    "    return col_normed_mat.T * col_normed_mat\n",
    "\n",
    "customer_similarities = cosine_similarities(df_sparse)\n",
    "customer_similarities= customer_similarities.toarray()"
   ]
  },
  {
   "cell_type": "code",
   "execution_count": 133,
   "metadata": {},
   "outputs": [
    {
     "name": "stdout",
     "output_type": "stream",
     "text": [
      "Customer similarities for customer ID's from first 100 movies shown:\n"
     ]
    },
    {
     "data": {
      "text/html": [
       "<div>\n",
       "<style scoped>\n",
       "    .dataframe tbody tr th:only-of-type {\n",
       "        vertical-align: middle;\n",
       "    }\n",
       "\n",
       "    .dataframe tbody tr th {\n",
       "        vertical-align: top;\n",
       "    }\n",
       "\n",
       "    .dataframe thead th {\n",
       "        text-align: right;\n",
       "    }\n",
       "</style>\n",
       "<table border=\"1\" class=\"dataframe\">\n",
       "  <thead>\n",
       "    <tr style=\"text-align: right;\">\n",
       "      <th></th>\n",
       "      <th>7</th>\n",
       "      <th>42</th>\n",
       "      <th>59</th>\n",
       "      <th>134</th>\n",
       "      <th>199</th>\n",
       "      <th>201</th>\n",
       "      <th>261</th>\n",
       "      <th>265</th>\n",
       "      <th>307</th>\n",
       "      <th>383</th>\n",
       "      <th>...</th>\n",
       "      <th>336784</th>\n",
       "      <th>336789</th>\n",
       "      <th>336807</th>\n",
       "      <th>336821</th>\n",
       "      <th>336829</th>\n",
       "      <th>336842</th>\n",
       "      <th>336847</th>\n",
       "      <th>336882</th>\n",
       "      <th>336895</th>\n",
       "      <th>336940</th>\n",
       "    </tr>\n",
       "  </thead>\n",
       "  <tbody>\n",
       "    <tr>\n",
       "      <th>7</th>\n",
       "      <td>1.000000</td>\n",
       "      <td>0.0</td>\n",
       "      <td>0.0</td>\n",
       "      <td>0.624695</td>\n",
       "      <td>0.0</td>\n",
       "      <td>0.624695</td>\n",
       "      <td>0.0</td>\n",
       "      <td>0.624695</td>\n",
       "      <td>0.780869</td>\n",
       "      <td>0.624695</td>\n",
       "      <td>...</td>\n",
       "      <td>0.624695</td>\n",
       "      <td>0.374817</td>\n",
       "      <td>0.624695</td>\n",
       "      <td>0.0</td>\n",
       "      <td>0.0</td>\n",
       "      <td>0.0</td>\n",
       "      <td>0.487805</td>\n",
       "      <td>0.0</td>\n",
       "      <td>0.624695</td>\n",
       "      <td>0.441726</td>\n",
       "    </tr>\n",
       "    <tr>\n",
       "      <th>42</th>\n",
       "      <td>0.000000</td>\n",
       "      <td>1.0</td>\n",
       "      <td>1.0</td>\n",
       "      <td>0.000000</td>\n",
       "      <td>1.0</td>\n",
       "      <td>0.000000</td>\n",
       "      <td>1.0</td>\n",
       "      <td>0.000000</td>\n",
       "      <td>0.000000</td>\n",
       "      <td>0.000000</td>\n",
       "      <td>...</td>\n",
       "      <td>0.000000</td>\n",
       "      <td>0.000000</td>\n",
       "      <td>0.000000</td>\n",
       "      <td>1.0</td>\n",
       "      <td>0.0</td>\n",
       "      <td>0.0</td>\n",
       "      <td>0.000000</td>\n",
       "      <td>0.0</td>\n",
       "      <td>0.000000</td>\n",
       "      <td>0.707107</td>\n",
       "    </tr>\n",
       "    <tr>\n",
       "      <th>59</th>\n",
       "      <td>0.000000</td>\n",
       "      <td>1.0</td>\n",
       "      <td>1.0</td>\n",
       "      <td>0.000000</td>\n",
       "      <td>1.0</td>\n",
       "      <td>0.000000</td>\n",
       "      <td>1.0</td>\n",
       "      <td>0.000000</td>\n",
       "      <td>0.000000</td>\n",
       "      <td>0.000000</td>\n",
       "      <td>...</td>\n",
       "      <td>0.000000</td>\n",
       "      <td>0.000000</td>\n",
       "      <td>0.000000</td>\n",
       "      <td>1.0</td>\n",
       "      <td>0.0</td>\n",
       "      <td>0.0</td>\n",
       "      <td>0.000000</td>\n",
       "      <td>0.0</td>\n",
       "      <td>0.000000</td>\n",
       "      <td>0.707107</td>\n",
       "    </tr>\n",
       "    <tr>\n",
       "      <th>134</th>\n",
       "      <td>0.624695</td>\n",
       "      <td>0.0</td>\n",
       "      <td>0.0</td>\n",
       "      <td>1.000000</td>\n",
       "      <td>0.0</td>\n",
       "      <td>1.000000</td>\n",
       "      <td>0.0</td>\n",
       "      <td>1.000000</td>\n",
       "      <td>0.000000</td>\n",
       "      <td>1.000000</td>\n",
       "      <td>...</td>\n",
       "      <td>1.000000</td>\n",
       "      <td>0.600000</td>\n",
       "      <td>1.000000</td>\n",
       "      <td>0.0</td>\n",
       "      <td>0.0</td>\n",
       "      <td>0.0</td>\n",
       "      <td>0.780869</td>\n",
       "      <td>0.0</td>\n",
       "      <td>1.000000</td>\n",
       "      <td>0.707107</td>\n",
       "    </tr>\n",
       "    <tr>\n",
       "      <th>199</th>\n",
       "      <td>0.000000</td>\n",
       "      <td>1.0</td>\n",
       "      <td>1.0</td>\n",
       "      <td>0.000000</td>\n",
       "      <td>1.0</td>\n",
       "      <td>0.000000</td>\n",
       "      <td>1.0</td>\n",
       "      <td>0.000000</td>\n",
       "      <td>0.000000</td>\n",
       "      <td>0.000000</td>\n",
       "      <td>...</td>\n",
       "      <td>0.000000</td>\n",
       "      <td>0.000000</td>\n",
       "      <td>0.000000</td>\n",
       "      <td>1.0</td>\n",
       "      <td>0.0</td>\n",
       "      <td>0.0</td>\n",
       "      <td>0.000000</td>\n",
       "      <td>0.0</td>\n",
       "      <td>0.000000</td>\n",
       "      <td>0.707107</td>\n",
       "    </tr>\n",
       "  </tbody>\n",
       "</table>\n",
       "<p>5 rows × 12523 columns</p>\n",
       "</div>"
      ],
      "text/plain": [
       "       7       42      59        134     199       201     261       265     \\\n",
       "7    1.000000     0.0     0.0  0.624695     0.0  0.624695     0.0  0.624695   \n",
       "42   0.000000     1.0     1.0  0.000000     1.0  0.000000     1.0  0.000000   \n",
       "59   0.000000     1.0     1.0  0.000000     1.0  0.000000     1.0  0.000000   \n",
       "134  0.624695     0.0     0.0  1.000000     0.0  1.000000     0.0  1.000000   \n",
       "199  0.000000     1.0     1.0  0.000000     1.0  0.000000     1.0  0.000000   \n",
       "\n",
       "       307       383     ...    336784    336789    336807  336821  336829  \\\n",
       "7    0.780869  0.624695  ...  0.624695  0.374817  0.624695     0.0     0.0   \n",
       "42   0.000000  0.000000  ...  0.000000  0.000000  0.000000     1.0     0.0   \n",
       "59   0.000000  0.000000  ...  0.000000  0.000000  0.000000     1.0     0.0   \n",
       "134  0.000000  1.000000  ...  1.000000  0.600000  1.000000     0.0     0.0   \n",
       "199  0.000000  0.000000  ...  0.000000  0.000000  0.000000     1.0     0.0   \n",
       "\n",
       "     336842    336847  336882    336895    336940  \n",
       "7       0.0  0.487805     0.0  0.624695  0.441726  \n",
       "42      0.0  0.000000     0.0  0.000000  0.707107  \n",
       "59      0.0  0.000000     0.0  0.000000  0.707107  \n",
       "134     0.0  0.780869     0.0  1.000000  0.707107  \n",
       "199     0.0  0.000000     0.0  0.000000  0.707107  \n",
       "\n",
       "[5 rows x 12523 columns]"
      ]
     },
     "metadata": {},
     "output_type": "display_data"
    }
   ],
   "source": [
    "user_similarity_matrix = pd.DataFrame(customer_similarities)\n",
    "user_similarity_matrix.columns = df_fts[:12523].index.values  # Customer IDs \n",
    "user_similarity_matrix.index = user_similarity_matrix.columns\n",
    "print(\"Customer similarities for customer ID's from first 100 movies shown:\")\n",
    "display(user_similarity_matrix.head())\n",
    "# set the column and index to customer ID\n",
    "# Get the top K customer scores for each row \n",
    "# Rank function"
   ]
  },
  {
   "cell_type": "markdown",
   "metadata": {},
   "source": [
    "### Predict Score Calculation\n",
    "\n",
    "##### Implement custom ranking function\n",
    "\n",
    "The equation below is used to get the rating r for user u on movie i. \n",
    "\n",
    "<img src=\"files/ranking_function.png\">\n",
    "\n",
    "Where r is the rating, k is the number of neigbors predifined in our model, sim() is the similarity between two users, i is movie i."
   ]
  },
  {
   "cell_type": "code",
   "execution_count": 134,
   "metadata": {},
   "outputs": [],
   "source": [
    "def rank_user_movie(user_row, movie_id, df):\n",
    "    user_similarities_top_k = user_row.nlargest(K)  # Most similar customers to customer in user_row \n",
    "    nearest_neighbors_cust_ID = user_similarities_top_k.index.values\n",
    "\n",
    "    r_u = df.loc[user_id]  #  ranking from the user u - user user_id's row from df across all movies\n",
    "    r_u_bar = np.mean(r_u.where(r_u>0)) # average nonzero rankings in all user's rankings, r_u\n",
    "\n",
    "    k = 1/np.sum(user_similarities_top_k)\n",
    "    # For each most nearest user u', zum the similarity between that user and our user u, times the \n",
    "    # rank for nearest user u' for that specific movie - the average ranking for all movies for nearest user u'\n",
    "    sum3=[]\n",
    "    for u_prime, sim_u_uprime in zip(nearest_neighbors_cust_ID, user_similarities_top_k):\n",
    "        r_u_prime_i=df.loc[u_prime][movie_id]\n",
    "        r_u_prime = df.loc[u_prime]\n",
    "        r_u_prime_bar= np.mean(r_u_prime.where(r_u_prime>0))\n",
    "        sum3.append(sim_u_uprime*(r_u_prime_i - r_u_prime_bar))\n",
    "\n",
    "    r_u_i = r_u_bar + k*np.sum(sum3)\n",
    "    return r_u_i "
   ]
  },
  {
   "cell_type": "code",
   "execution_count": 143,
   "metadata": {},
   "outputs": [],
   "source": [
    "K=20\n",
    "movie_id = \"Lilo and Stitch\"\n",
    "user_id = 336847\n",
    "df = df_fts\n",
    "user_row = user_similarity_matrix.loc[user_id]  # Customer user_id's similarities to all other customers "
   ]
  },
  {
   "cell_type": "code",
   "execution_count": 145,
   "metadata": {},
   "outputs": [
    {
     "data": {
      "text/plain": [
       "0.7951235964187946"
      ]
     },
     "execution_count": 145,
     "metadata": {},
     "output_type": "execute_result"
    }
   ],
   "source": [
    "# # Predict the rating for user 336847 on movie 8, titled \"Class of Nuke 'Em High 2\": \n",
    "rank_user_movie(user_row=user_row, movie_id=\"Class of Nuke 'Em High 2\",df=df)"
   ]
  },
  {
   "cell_type": "markdown",
   "metadata": {},
   "source": [
    "Using the by-hand KNN Collaborative filtering implementation with datasets larger than the one used here resulted in out-of-memory errors. Down below we will show what the implementation looks like for larger data set sizes. This gives us a good idea of how the algorithm is working. "
   ]
  },
  {
   "cell_type": "markdown",
   "metadata": {},
   "source": [
    "### Algorithms From the Surprise Package"
   ]
  },
  {
   "cell_type": "markdown",
   "metadata": {},
   "source": [
    "In addition to doing the KNN by hand, we moved on to use the Surprise package to implement KNN and our other algorithms. \n",
    "\n",
    "Surprise is a Python scikit building and analyzing recommendation systems that deal with explicit rating data. The name SurPRISE stands for Simple Python RecommendatIon System Engine. It does not support content based filtering."
   ]
  },
  {
   "cell_type": "markdown",
   "metadata": {},
   "source": [
    "We will define a function to make predictions and obtain the RMSE for each model:"
   ]
  },
  {
   "cell_type": "code",
   "execution_count": 43,
   "metadata": {},
   "outputs": [],
   "source": [
    "def fit_predict(algo, train, test):\n",
    "    model = algo.fit(train)\n",
    "    prediction = model.test(test)\n",
    "    return(accuracy.rmse(prediction))"
   ]
  },
  {
   "cell_type": "markdown",
   "metadata": {},
   "source": [
    "Next, we loop through all the subsets of data and calculate the RMSE for each of the mentioned algorithms. We choose to use user-based form of collaborative filtering. Here we use the optimal hyperparameters obtained through using GridSearch (shown in the <font color=\"grey\">\"Netflix Movie Recommender GridSearch.ipynb notebook\"</font>). This was very time-consuming to run both gridsearch and for larger subsets; for this report we keep it to the minimal 400-movie subset and refernece the work done to run the larger subsets.  "
   ]
  },
  {
   "cell_type": "code",
   "execution_count": 46,
   "metadata": {},
   "outputs": [
    {
     "name": "stdout",
     "output_type": "stream",
     "text": [
      "SVD:\n",
      "RMSE: 1.0148\n",
      "NMF:\n",
      "RMSE: 1.0202\n",
      "SlopeOne\n",
      "RMSE: 1.0349\n",
      "CoClustering:\n",
      "RMSE: 1.0664\n",
      "BaselineOnly:\n",
      "Estimating biases using sgd...\n",
      "RMSE: 1.0276\n",
      "SVD++:\n",
      "RMSE: 0.9780\n",
      "KNNBasic:\n",
      "Computing the msd similarity matrix...\n",
      "Done computing similarity matrix.\n",
      "RMSE: 1.0426\n",
      "KNNWithMeans:\n",
      "Computing the msd similarity matrix...\n",
      "Done computing similarity matrix.\n",
      "RMSE: 0.9947\n",
      "KNNBaseline\n",
      "Estimating biases using als...\n",
      "Computing the msd similarity matrix...\n",
      "Done computing similarity matrix.\n",
      "RMSE: 0.9802\n"
     ]
    }
   ],
   "source": [
    "reader = Reader(rating_scale=(1, 5))\n",
    "df_all = [df_400_1] #, df_400_2, df_400_3]\n",
    "rmse = []\n",
    "\n",
    "for data in df_all:\n",
    "    d = Dataset.load_from_df(data[['Cust_Id', 'MovieID', 'Rating']], reader)\n",
    "    train, test = train_test_split(d, test_size = 0.3)\n",
    "    \n",
    "    # SVD:\n",
    "    print(\"SVD:\")\n",
    "    svd = SVD(n_factors = 20, lr_all = 0.005, reg_all = 0.01)\n",
    "    rmse.append(fit_predict(svd, train, test))\n",
    "    \n",
    "    # NMF:\n",
    "    print(\"NMF:\")\n",
    "    nmf = NMF(n_factors = 20, n_epochs = 20, biased = True)\n",
    "    rmse.append(fit_predict(nmf, train, test))\n",
    "    \n",
    "    # SlopeOne:\n",
    "    print(\"SlopeOne:\")\n",
    "    slope = SlopeOne()\n",
    "    rmse.append(fit_predict(slope, train, test))\n",
    "    \n",
    "    # CoClustering:\n",
    "    print(\"CoClustering:\")\n",
    "    cc = CoClustering(n_cltr_u = 2, n_cltr_i = 2)\n",
    "    rmse.append(fit_predict(cc, train, test))\n",
    "    \n",
    "    # BaselineOnly\n",
    "    print(\"BaselineOnly:\")\n",
    "    bsl_options = {'method': 'sgd','learning_rate': .00005}\n",
    "    bsl = BaselineOnly(bsl_options = bsl_options)\n",
    "    rmse.append(fit_predict(bsl, train, test))\n",
    "    \n",
    "    # SVD++\n",
    "    print(\"SVD++:\")\n",
    "    svdpp = SVDpp(n_factors = 50, lr_all = 0.005, reg_all = 0.02)\n",
    "    rmse.append(fit_predict(svdpp, train, test))\n",
    "\n",
    "    # KNNBasic\n",
    "    print(\"KNNBasic:\")\n",
    "    sim_options = {'name': 'MSD', 'user_based': False}\n",
    "    knn_basic = KNNBasic(k=20, sim_options = sim_options, min_k = 5)\n",
    "    rmse.append(fit_predict(knn_basic, train, test))\n",
    "    \n",
    "    # KNNWithMeans\n",
    "    print(\"KNNWithMeans:\")\n",
    "    sim_options = {'name': 'MSD', 'user_based': False, 'shrinkage': 10}\n",
    "    knn = KNNWithMeans(k=20, sim_options = sim_options, min_k = 8)\n",
    "    rmse.append(fit_predict(knn, train, test))\n",
    "    \n",
    "    # KNNBaseline\n",
    "    print(\"KNNBaseline\")\n",
    "    sim_options = {'name': 'MSD', 'user_based': False, 'shrinkage': 10}\n",
    "    knn_bsl = KNNBaseline(k=20, sim_options = sim_options, min_k = 8)\n",
    "    rmse.append(fit_predict(knn_bsl, train, test))"
   ]
  },
  {
   "cell_type": "markdown",
   "metadata": {},
   "source": [
    "### Plot of RMSE vs Sample Size by Algorithm"
   ]
  },
  {
   "cell_type": "markdown",
   "metadata": {},
   "source": [
    "The results for the algorithms shown above are promising. We see that SVD++ is the highest performing algorithm, closely followed by KNNBaseline. Due to the fact that we are not using the whole dataset, to reduce the potential bias caused by a particular samll subset, we sampled 9 subsets, i.e. 3 subsets for each size of 400, 700, and 1000 movies. There are over 2 million rows in each subset of the 400 movie subsets, over 3.5 million rows in each subset of the 700 movie subsets, and over 5 million rows in the 1000 movie subset."
   ]
  },
  {
   "cell_type": "markdown",
   "metadata": {},
   "source": [
    "<img src=\"./files/rmse_sample_slices.png\">\n",
    "<font color=\"grey\">Values calculated in \"Netflix Movie Recommendation Slices.ipynb\"</font>"
   ]
  },
  {
   "cell_type": "markdown",
   "metadata": {},
   "source": [
    "We can see that the RMSE is going downward as the sample size increases for almost all of the algorithms. This is expected: as we obtain more data, the predictions should be more accurate. This also shows that this downward trend is consistent for all slices and across all sample sizes.\n",
    "\n",
    "Since the memory load on our computers was too large to handle, we can make a regression line to fit to the RMSE data to get an idea of what our accuracy would have been with a larger data set. This assumes it would be following the same trend as our RMSE has shown for the three 400, 700, 1000-movie subsets. However three RMSE datapoints (400 movies, 700 movies, 1000 movies) are too small of a sample size to make a reliable prediction of the accuracy for a dataset that is over 17 times bigger than the biggist dataset we used. To increase the sample size for the regression, we need to have a few more datasets. To make the prediction more reliable, we need to use larger datasets (3000 movies, 5000 movies, and 7000 movies). Due to the fact that the best algorithm SVD++ takes much longer than other algorithms, KNNBaseline (second best) and KNNBasic (third best) are also slow, SVD (equivalent to KNNBasic in terms of RMSE) runs much faster. Therefore, we choose to use SVD to fit the larger datasets.\n",
    "\n",
    "The following table from the Surprise website also confirms the running time for each algorithm on a dataset with 1 million ratings. The dataset is much smaller than ours, but we can get an idea of the running time of each algorithm.\n",
    "\n",
    "<img src=\"./files/RunningTime.png\">"
   ]
  },
  {
   "cell_type": "markdown",
   "metadata": {},
   "source": [
    "### Estimate RMSE for the Whole Dataset"
   ]
  },
  {
   "cell_type": "code",
   "execution_count": 5,
   "metadata": {},
   "outputs": [],
   "source": [
    "# Load the RMSEs of the SVD model on datasets of all sizes\n",
    "# For sizes 400, 700, 1000 movies, we used the average of the RMSE on all three slices of each sample size\n",
    "rmse = pd.read_excel(\"RMSE2.xlsx\")"
   ]
  },
  {
   "cell_type": "code",
   "execution_count": 11,
   "metadata": {},
   "outputs": [
    {
     "data": {
      "image/png": "[encoded data removed]",
      "text/plain": [
       "<Figure size 720x288 with 1 Axes>"
      ]
     },
     "metadata": {},
     "output_type": "display_data"
    }
   ],
   "source": [
    "# Plot the original RMSEs\n",
    "plt.figure(figsize=(10,4))\n",
    "\n",
    "sns.set(rc={'text.color':\"white\", \n",
    "            'axes.labelcolor': 'white', \n",
    "            'xtick.color': 'white', \n",
    "            'ytick.color': 'white', \n",
    "            'axes.facecolor': '#949fb5',\n",
    "            'figure.facecolor': '#2a3242'}, \n",
    "        font_scale=1.5)\n",
    "\n",
    "plt.scatter(rmse['Sample Size'], rmse['SVD'])\n",
    "plt.title(\"RMSE of SVD for Each Sample Size\")\n",
    "plt.xlabel(\"Sample Size\")\n",
    "plt.ylabel(\"RMSE\")\n",
    "plt.show()"
   ]
  },
  {
   "cell_type": "markdown",
   "metadata": {},
   "source": [
    "The plot shows that the RMSE points do not follow a straight line across the logged sample size. We can fit a simple regression line to make prediction on the RMSE for the sample size 17770."
   ]
  },
  {
   "cell_type": "code",
   "execution_count": 13,
   "metadata": {},
   "outputs": [
    {
     "data": {
      "image/png": "[encoded data removed]",
      "text/plain": [
       "<Figure size 720x288 with 1 Axes>"
      ]
     },
     "metadata": {},
     "output_type": "display_data"
    }
   ],
   "source": [
    "# Plot the RMSEs for logged sample sizes\n",
    "log_size = [np.log(x) for x in rmse['Sample Size']] # Take the log of the sample sizes\n",
    "\n",
    "plt.figure(figsize=(10,4))\n",
    "\n",
    "sns.set(rc={'text.color':\"white\", \n",
    "            'axes.labelcolor': 'white', \n",
    "            'xtick.color': 'white', \n",
    "            'ytick.color': 'white', \n",
    "            'axes.facecolor': '#949fb5',\n",
    "            'figure.facecolor': '#2a3242'}, \n",
    "        font_scale=1.5)\n",
    "\n",
    "plt.scatter(log_size, rmse['SVD'])\n",
    "plt.title(\"RMSE of SVD for Each Log(Sample Size)\")\n",
    "plt.xlabel(\"Log(Sample Size)\")\n",
    "plt.ylabel(\"RMSE\")\n",
    "plt.show()"
   ]
  },
  {
   "cell_type": "markdown",
   "metadata": {},
   "source": [
    "Now the RMSE points seem to follow a straight line. So, we can fit a simple regression with the RMSEs as the dependent variable (or the target variable), and the logged sample sizes as the independent variable (or the preditor variable)."
   ]
  },
  {
   "cell_type": "code",
   "execution_count": 72,
   "metadata": {},
   "outputs": [
    {
     "name": "stdout",
     "output_type": "stream",
     "text": [
      "R2 = 0.9732\n"
     ]
    }
   ],
   "source": [
    "from sklearn.linear_model import LinearRegression\n",
    "\n",
    "# Fit the model:\n",
    "x = np.array(log_size).reshape(-1, 1)\n",
    "y = np.array(rmse['SVD']).reshape(-1, 1)\n",
    "lr = LinearRegression()\n",
    "\n",
    "lr.fit(x, y)\n",
    "r2 = lr.score(x,y)\n",
    "print('R2 =', round(r2,4))"
   ]
  },
  {
   "cell_type": "code",
   "execution_count": 217,
   "metadata": {},
   "outputs": [],
   "source": [
    "# Make predictions\n",
    "larger_sizes = [9000, 11000, 13000, 15000, 17000, 17770]\n",
    "sizes = np.array(smaller_sizes + larger_sizes)\n",
    "logged = [np.log(x) for x in sizes]\n",
    "all_sizes = np.array(logged).reshape(-1, 1)\n",
    "fitted_pred = lr.predict(all_sizes)"
   ]
  },
  {
   "cell_type": "code",
   "execution_count": 219,
   "metadata": {},
   "outputs": [],
   "source": [
    "# Combine original RMSEs and Predicted RMSEs\n",
    "sizes_2 = [x for x in sizes]\n",
    "prdictions = [x for x in fitted_pred]\n",
    "rmse_larger = pd.DataFrame({'Sample Size': sizes_2, 'SVD': predictions})\n",
    "rmse_all = rmse_larger.merge(rmse, on='Sample Size',how='left')"
   ]
  },
  {
   "cell_type": "code",
   "execution_count": 221,
   "metadata": {},
   "outputs": [
    {
     "data": {
      "text/html": [
       "<div>\n",
       "<style scoped>\n",
       "    .dataframe tbody tr th:only-of-type {\n",
       "        vertical-align: middle;\n",
       "    }\n",
       "\n",
       "    .dataframe tbody tr th {\n",
       "        vertical-align: top;\n",
       "    }\n",
       "\n",
       "    .dataframe thead th {\n",
       "        text-align: right;\n",
       "    }\n",
       "</style>\n",
       "<table border=\"1\" class=\"dataframe\">\n",
       "  <thead>\n",
       "    <tr style=\"text-align: right;\">\n",
       "      <th></th>\n",
       "      <th>Sample Size</th>\n",
       "      <th>SVD_x</th>\n",
       "      <th>SVD_y</th>\n",
       "    </tr>\n",
       "  </thead>\n",
       "  <tbody>\n",
       "    <tr>\n",
       "      <th>0</th>\n",
       "      <td>400</td>\n",
       "      <td>0.983418</td>\n",
       "      <td>0.994167</td>\n",
       "    </tr>\n",
       "    <tr>\n",
       "      <th>1</th>\n",
       "      <td>700</td>\n",
       "      <td>0.962818</td>\n",
       "      <td>0.954000</td>\n",
       "    </tr>\n",
       "    <tr>\n",
       "      <th>2</th>\n",
       "      <td>1000</td>\n",
       "      <td>0.949688</td>\n",
       "      <td>0.943500</td>\n",
       "    </tr>\n",
       "    <tr>\n",
       "      <th>3</th>\n",
       "      <td>3000</td>\n",
       "      <td>0.909246</td>\n",
       "      <td>0.909500</td>\n",
       "    </tr>\n",
       "    <tr>\n",
       "      <th>4</th>\n",
       "      <td>5000</td>\n",
       "      <td>0.890441</td>\n",
       "      <td>0.894500</td>\n",
       "    </tr>\n",
       "    <tr>\n",
       "      <th>5</th>\n",
       "      <td>7000</td>\n",
       "      <td>0.878055</td>\n",
       "      <td>0.878000</td>\n",
       "    </tr>\n",
       "    <tr>\n",
       "      <th>6</th>\n",
       "      <td>9000</td>\n",
       "      <td>0.868804</td>\n",
       "      <td>NaN</td>\n",
       "    </tr>\n",
       "    <tr>\n",
       "      <th>7</th>\n",
       "      <td>11000</td>\n",
       "      <td>0.861417</td>\n",
       "      <td>NaN</td>\n",
       "    </tr>\n",
       "    <tr>\n",
       "      <th>8</th>\n",
       "      <td>13000</td>\n",
       "      <td>0.855267</td>\n",
       "      <td>NaN</td>\n",
       "    </tr>\n",
       "    <tr>\n",
       "      <th>9</th>\n",
       "      <td>15000</td>\n",
       "      <td>0.849999</td>\n",
       "      <td>NaN</td>\n",
       "    </tr>\n",
       "    <tr>\n",
       "      <th>10</th>\n",
       "      <td>17000</td>\n",
       "      <td>0.845392</td>\n",
       "      <td>NaN</td>\n",
       "    </tr>\n",
       "    <tr>\n",
       "      <th>11</th>\n",
       "      <td>17770</td>\n",
       "      <td>0.843761</td>\n",
       "      <td>NaN</td>\n",
       "    </tr>\n",
       "  </tbody>\n",
       "</table>\n",
       "</div>"
      ],
      "text/plain": [
       "    Sample Size     SVD_x     SVD_y\n",
       "0           400  0.983418  0.994167\n",
       "1           700  0.962818  0.954000\n",
       "2          1000  0.949688  0.943500\n",
       "3          3000  0.909246  0.909500\n",
       "4          5000  0.890441  0.894500\n",
       "5          7000  0.878055  0.878000\n",
       "6          9000  0.868804       NaN\n",
       "7         11000  0.861417       NaN\n",
       "8         13000  0.855267       NaN\n",
       "9         15000  0.849999       NaN\n",
       "10        17000  0.845392       NaN\n",
       "11        17770  0.843761       NaN"
      ]
     },
     "execution_count": 221,
     "metadata": {},
     "output_type": "execute_result"
    }
   ],
   "source": [
    "rmse_all"
   ]
  },
  {
   "cell_type": "code",
   "execution_count": 222,
   "metadata": {},
   "outputs": [
    {
     "data": {
      "image/png": "[encoded data removed]",
      "text/plain": [
       "<Figure size 720x288 with 1 Axes>"
      ]
     },
     "metadata": {},
     "output_type": "display_data"
    }
   ],
   "source": [
    "# Plot the original RMSEs and the predicted RMSEs\n",
    "\n",
    "plt.figure(figsize=(10,4))\n",
    "\n",
    "sns.set(rc={'text.color':\"white\", \n",
    "            'axes.labelcolor': 'white', \n",
    "            'xtick.color': 'white', \n",
    "            'ytick.color': 'white', \n",
    "            'axes.facecolor': '#949fb5',\n",
    "            'figure.facecolor': '#2a3242'}, \n",
    "        font_scale=1.5)\n",
    "\n",
    "\n",
    "plt.plot(rmse_all['Sample Size'], rmse_all['SVD_x'], color = 'red', label = 'Predicted RMSE')\n",
    "plt.scatter(rmse_all['Sample Size'], rmse_all['SVD_y'], label = 'Orinigal RMSE')\n",
    "plt.title(\"RMSE Prediction for Larger Datasets\")\n",
    "plt.xlabel(\"Sample Size\")\n",
    "plt.ylabel(\"RMSE\")\n",
    "plt.legend()\n",
    "plt.show()"
   ]
  },
  {
   "cell_type": "markdown",
   "metadata": {},
   "source": [
    "The R squared of the regression model we used to predict the RMSE for the full dataset is 0.9732, which is pretty good. Based on our predcition, the RMSE of the fitting the SVD model on the full dataset would be 0.8438. The RMSE of the $1M winning team is 0.8567. We understand that due to the time and memory limit, we only fitted the model on 6 datasets which is still too small a sample size and therefore, the predition may not be accurate. However, it gives us an idea that with the full dataset, we can get much closer to the RMSE of the winning team. \n",
    "\n",
    "We are now confident with our models and ready to predict ratings and make recommendations."
   ]
  },
  {
   "cell_type": "markdown",
   "metadata": {},
   "source": [
    "### Testing the models: Predictions and Recommendations\n",
    "\n",
    "For our algorithms, we saw that the larger the sample size, the smaller the RMSE. We expect we could've obtained the RMSE that the winning Netflix prize team obtained if we had more RAM to run our algorithms with. \n",
    "Our best-performing models were SVD++ and KNNBaseline, with an RMSE of 0.9207.\n"
   ]
  },
  {
   "cell_type": "code",
   "execution_count": 94,
   "metadata": {},
   "outputs": [],
   "source": [
    "# Build the model with the best algorithm (SVD++)\n",
    "d = Dataset.load_from_df(df_400_1[['Cust_Id', 'MovieID', 'Rating']], reader)\n",
    "train, test = train_test_split(d, test_size = 0.3)\n",
    "svdpp = SVDpp(n_factors = 50, lr_all = 0.005, reg_all = 0.02)\n",
    "svdpp = svdpp.fit(train)"
   ]
  },
  {
   "cell_type": "code",
   "execution_count": 95,
   "metadata": {},
   "outputs": [],
   "source": [
    "def pred_movie_merge(prediction):\n",
    "    global movies\n",
    "    Cust_Id, MovieID, Rating, Predicted_Rating = [], [], [], []\n",
    "    \n",
    "    # Convert the predictions to a dataframe:\n",
    "    for i in range(len(prediction)):\n",
    "        Cust_Id.append(prediction[i][0])\n",
    "        MovieID.append(prediction[i][1])\n",
    "        Predicted_Rating.append(prediction[i][3])\n",
    "    df = pd.DataFrame({'Cust_Id':Cust_Id,'MovieID':MovieID,'Predicted_Rating':Predicted_Rating}) \n",
    "    \n",
    "    # Merge the predictions and movies datasets to get the Movie Title and Year of Release columns:\n",
    "    df['MovieID'] = df['MovieID'].astype(str)\n",
    "    movies['MovieID'] = movies['MovieID'].astype(str)\n",
    "    pred_movie = pd.merge(df, movies, how = 'left', on = 'MovieID')\n",
    "    \n",
    "    return(pred_movie)"
   ]
  },
  {
   "cell_type": "code",
   "execution_count": 96,
   "metadata": {},
   "outputs": [],
   "source": [
    "def recommend(dataset, model, customerID, top=5):\n",
    "    m_ids = dataset['MovieID'].unique() # Find unique movie IDs\n",
    "    rated = dataset.loc[dataset['Cust_Id']==str(customerID),'MovieID'] # Find the movies the customer rated\n",
    "    m_to_pred = np.setdiff1d(m_ids, rated) # Remove the movies the customer rated\n",
    "    test_set = [[str(customerID), m, 4.] for m in m_to_pred] # Make a list of the movies to be rated\n",
    "    prediction = model.test(test_set) # Predict ratings on the movies to be rated   \n",
    "    pred_movie = pred_movie_merge(prediction) # Get the Title and YearOfRelease columns from the movies dataset\n",
    "    ratings = pred_movie[pred_movie['Cust_Id']==str(customerID)] # Get the predicted ratings for the specified customerID\n",
    "    recommendations = ratings.sort_values(['Predicted_Rating'], ascending=0)[['Title','YearOfRelease','Predicted_Rating']][:top]\n",
    "    print(top,'Movie Recommendations for Customer ' + str(customerID) + ':')\n",
    "    return(recommendations)"
   ]
  },
  {
   "cell_type": "code",
   "execution_count": 97,
   "metadata": {},
   "outputs": [
    {
     "name": "stdout",
     "output_type": "stream",
     "text": [
      "5 Movie Recommendations for Customer 1488844:\n"
     ]
    },
    {
     "data": {
      "text/html": [
       "<div>\n",
       "<style scoped>\n",
       "    .dataframe tbody tr th:only-of-type {\n",
       "        vertical-align: middle;\n",
       "    }\n",
       "\n",
       "    .dataframe tbody tr th {\n",
       "        vertical-align: top;\n",
       "    }\n",
       "\n",
       "    .dataframe thead th {\n",
       "        text-align: right;\n",
       "    }\n",
       "</style>\n",
       "<table border=\"1\" class=\"dataframe\">\n",
       "  <thead>\n",
       "    <tr style=\"text-align: right;\">\n",
       "      <th></th>\n",
       "      <th>Title</th>\n",
       "      <th>YearOfRelease</th>\n",
       "      <th>Predicted_Rating</th>\n",
       "    </tr>\n",
       "  </thead>\n",
       "  <tbody>\n",
       "    <tr>\n",
       "      <th>10</th>\n",
       "      <td>Lord of the Rings: The Return of the King: Ext...</td>\n",
       "      <td>2003.0</td>\n",
       "      <td>4.419176</td>\n",
       "    </tr>\n",
       "    <tr>\n",
       "      <th>95</th>\n",
       "      <td>Stevie Ray Vaughan and Double Trouble: Live at...</td>\n",
       "      <td>2004.0</td>\n",
       "      <td>4.144558</td>\n",
       "    </tr>\n",
       "    <tr>\n",
       "      <th>119</th>\n",
       "      <td>Viva La Bam: Season 1</td>\n",
       "      <td>2003.0</td>\n",
       "      <td>4.094557</td>\n",
       "    </tr>\n",
       "    <tr>\n",
       "      <th>74</th>\n",
       "      <td>Elfen Lied</td>\n",
       "      <td>2005.0</td>\n",
       "      <td>4.082984</td>\n",
       "    </tr>\n",
       "    <tr>\n",
       "      <th>199</th>\n",
       "      <td>Chappelle's Show: Season 1</td>\n",
       "      <td>2003.0</td>\n",
       "      <td>4.073824</td>\n",
       "    </tr>\n",
       "  </tbody>\n",
       "</table>\n",
       "</div>"
      ],
      "text/plain": [
       "                                                 Title  YearOfRelease  \\\n",
       "10   Lord of the Rings: The Return of the King: Ext...         2003.0   \n",
       "95   Stevie Ray Vaughan and Double Trouble: Live at...         2004.0   \n",
       "119                              Viva La Bam: Season 1         2003.0   \n",
       "74                                          Elfen Lied         2005.0   \n",
       "199                         Chappelle's Show: Season 1         2003.0   \n",
       "\n",
       "     Predicted_Rating  \n",
       "10           4.419176  \n",
       "95           4.144558  \n",
       "119          4.094557  \n",
       "74           4.082984  \n",
       "199          4.073824  "
      ]
     },
     "execution_count": 97,
     "metadata": {},
     "output_type": "execute_result"
    }
   ],
   "source": [
    "# Recommend 5 movies for customer 1544402\n",
    "top = 5\n",
    "recommend(df_400_1, svdpp, 1488844, top)"
   ]
  },
  {
   "cell_type": "code",
   "execution_count": 98,
   "metadata": {},
   "outputs": [
    {
     "name": "stdout",
     "output_type": "stream",
     "text": [
      "5 Movie Recommendations for Customer 885013:\n"
     ]
    },
    {
     "data": {
      "text/html": [
       "<div>\n",
       "<style scoped>\n",
       "    .dataframe tbody tr th:only-of-type {\n",
       "        vertical-align: middle;\n",
       "    }\n",
       "\n",
       "    .dataframe tbody tr th {\n",
       "        vertical-align: top;\n",
       "    }\n",
       "\n",
       "    .dataframe thead th {\n",
       "        text-align: right;\n",
       "    }\n",
       "</style>\n",
       "<table border=\"1\" class=\"dataframe\">\n",
       "  <thead>\n",
       "    <tr style=\"text-align: right;\">\n",
       "      <th></th>\n",
       "      <th>Title</th>\n",
       "      <th>YearOfRelease</th>\n",
       "      <th>Predicted_Rating</th>\n",
       "    </tr>\n",
       "  </thead>\n",
       "  <tbody>\n",
       "    <tr>\n",
       "      <th>30</th>\n",
       "      <td>Aqua Teen Hunger Force: Vol. 1</td>\n",
       "      <td>2000.0</td>\n",
       "      <td>5.000000</td>\n",
       "    </tr>\n",
       "    <tr>\n",
       "      <th>171</th>\n",
       "      <td>Reservoir Dogs</td>\n",
       "      <td>1992.0</td>\n",
       "      <td>4.923615</td>\n",
       "    </tr>\n",
       "    <tr>\n",
       "      <th>65</th>\n",
       "      <td>Invader Zim</td>\n",
       "      <td>2004.0</td>\n",
       "      <td>4.793704</td>\n",
       "    </tr>\n",
       "    <tr>\n",
       "      <th>230</th>\n",
       "      <td>Led Zeppelin: The Song Remains the Same</td>\n",
       "      <td>1976.0</td>\n",
       "      <td>4.781153</td>\n",
       "    </tr>\n",
       "    <tr>\n",
       "      <th>328</th>\n",
       "      <td>Noir</td>\n",
       "      <td>2001.0</td>\n",
       "      <td>4.712821</td>\n",
       "    </tr>\n",
       "  </tbody>\n",
       "</table>\n",
       "</div>"
      ],
      "text/plain": [
       "                                       Title  YearOfRelease  Predicted_Rating\n",
       "30            Aqua Teen Hunger Force: Vol. 1         2000.0          5.000000\n",
       "171                           Reservoir Dogs         1992.0          4.923615\n",
       "65                               Invader Zim         2004.0          4.793704\n",
       "230  Led Zeppelin: The Song Remains the Same         1976.0          4.781153\n",
       "328                                     Noir         2001.0          4.712821"
      ]
     },
     "execution_count": 98,
     "metadata": {},
     "output_type": "execute_result"
    }
   ],
   "source": [
    "# Recommend 7 movies for customer 885013:\n",
    "top = 7\n",
    "recommend(df_400_1, svdpp, 885013, top = 5)"
   ]
  },
  {
   "cell_type": "code",
   "execution_count": 54,
   "metadata": {},
   "outputs": [],
   "source": [
    "rmse_predicted = [x in predictions.reshape(1,-1)]"
   ]
  },
  {
   "cell_type": "code",
   "execution_count": 99,
   "metadata": {},
   "outputs": [
    {
     "name": "stdout",
     "output_type": "stream",
     "text": [
      "user: 822109     item: 1          r_ui = 5.00   est = 3.61   {'was_impossible': False}\n",
      "The predicted rating for customer 822109 on moive 1 is: 3.61\n"
     ]
    }
   ],
   "source": [
    "# Predict the rating for user 822109 on movie 1: \n",
    "uid = str(822109) \n",
    "iid = str(1)\n",
    "\n",
    "pred = svdpp.predict(uid, iid, r_ui=5, verbose=True)\n",
    "print('The predicted rating for customer %s on moive %s is:'%(uid, iid), round(pred[3],2))"
   ]
  },
  {
   "cell_type": "markdown",
   "metadata": {},
   "source": [
    "# Future Plans\n",
    "\n",
    "\n",
    "For this project, a large hurdle was being able to process a data set as large as we used. Optimizing our data ingestion would be one item on our future plans list, because this could allow us to use more data and get better results. Data generators would be one technique we would want to look into further. To optimize this we could also investigate would be running our algorithms on a high performance computing cluster. \n",
    "\n",
    "Additionally, using more features like actor and genre would probably provide better insight into user behavior and better results, but that would require different algorithms.\n",
    "\n",
    "Lastly, we could use an ensemble method to combine some of our best performing algorithms like SVD++ and KNNBaseline and see if that would make the RMSE values smaller. "
   ]
  },
  {
   "cell_type": "markdown",
   "metadata": {},
   "source": [
    "# References"
   ]
  },
  {
   "cell_type": "markdown",
   "metadata": {},
   "source": [
    "https://www.kaggle.com/laowingkin/netflix-movie-recommendation\n",
    "\n",
    "https://www.kaggle.com/jieyima/netflix-recommendation-collaborative-filtering\n",
    "\n",
    "https://www.netflixprize.com/assets/GrandPrize2009_BPC_BellKor.pdf\n",
    "\n",
    "https://towardsdatascience.com/prototyping-a-recommender-system-step-by-step-part-1-knn-item-based-collaborative-filtering-637969614ea\n",
    "\n",
    "https://surprise.readthedocs.io/en/stable/matrix_factorization.html#surprise.prediction_algorithms.matrix_factorization.SVD\n",
    "\n",
    "https://www.youtube.com/watch?v=8wLKuscyO9I\n",
    "\n",
    "https://blog.statsbot.co/recommendation-system-algorithms-ba67f39ac9a3\n",
    "\n",
    "https://en.wikipedia.org/wiki/Recommender_system\n",
    "\n",
    "https://en.wikipedia.org/wiki/Matrix_factorization_(recommender_systems)\n",
    "\n",
    "https://surprise.readthedocs.io/en/stable/prediction_algorithms_package.htm\n",
    "\n",
    "https://surprise.readthedocs.io/en/stable/similarities.html#surprise.similarities.cosine\n",
    "\n",
    "http://papers.nips.cc/paper/1861-algorithms-for-non-negative-matrix-factorization.pdf\n",
    "\n",
    "https://en.wikipedia.org/wiki/Slope_One\n",
    "\n",
    "http://citeseerx.ist.psu.edu/viewdoc/download?doi=10.1.1.113.6458&rep=rep1&type=pdf\n",
    "\n",
    "http://nicolas-hug.com/blog/matrix_facto_3\n",
    "\n"
   ]
  },
  {
   "cell_type": "markdown",
   "metadata": {},
   "source": [
    "## Team Member Responsibilities:\n",
    "(In alphabetic order of the first names)\n",
    "\n",
    "Celeste: KNN algorithm by hand, compiling the report on Jupyter Notebook\n",
    "\n",
    "Hanna: Data Visualization, Fitting models on 400-movie datasets, RMSE plots, Predictions and Recommendations, RMSE Prediction \n",
    "\n",
    "Hesam: Gridsearch for all models, Fitting models on 700, 1000, 3000, 5000, and 7000-movie datasets"
   ]
  }
 ],
 "metadata": {
  "kernelspec": {
   "display_name": "Python 3",
   "language": "python",
   "name": "python3"
  },
  "language_info": {
   "codemirror_mode": {
    "name": "ipython",
    "version": 3
   },
   "file_extension": ".py",
   "mimetype": "text/x-python",
   "name": "python",
   "nbconvert_exporter": "python",
   "pygments_lexer": "ipython3",
   "version": "3.7.6"
  }
 },
 "nbformat": 4,
 "nbformat_minor": 4
}
