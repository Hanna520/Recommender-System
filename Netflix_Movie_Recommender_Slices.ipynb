{
 "cells": [
  {
   "cell_type": "markdown",
   "metadata": {},
   "source": [
    "## Netflix Movie Recommendation"
   ]
  },
  {
   "cell_type": "code",
   "execution_count": 1,
   "metadata": {},
   "outputs": [],
   "source": [
    "import pandas as pd\n",
    "import numpy as np\n",
    "import math\n",
    "import re\n",
    "from scipy.sparse import csr_matrix\n",
    "import matplotlib.pyplot as plt\n",
    "import seaborn as sns\n",
    "\n",
    "# sns.set_style(\"darkgrid\")"
   ]
  },
  {
   "cell_type": "code",
   "execution_count": 93,
   "metadata": {},
   "outputs": [],
   "source": [
    "from surprise import Reader, Dataset, SVD\n",
    "from surprise.model_selection import cross_validate, train_test_split\n",
    "from surprise import accuracy"
   ]
  },
  {
   "cell_type": "markdown",
   "metadata": {},
   "source": [
    "## Load Data and Data Preprocessing"
   ]
  },
  {
   "cell_type": "code",
   "execution_count": 5,
   "metadata": {},
   "outputs": [],
   "source": [
    "movies = pd.read_csv('movie_titles.csv', header = None, usecols = [0,1,2], names = ['MovieID', 'YearOfRelease', 'Title'],encoding='latin1')"
   ]
  },
  {
   "cell_type": "code",
   "execution_count": 348,
   "metadata": {},
   "outputs": [
    {
     "data": {
      "text/html": [
       "<div>\n",
       "<style scoped>\n",
       "    .dataframe tbody tr th:only-of-type {\n",
       "        vertical-align: middle;\n",
       "    }\n",
       "\n",
       "    .dataframe tbody tr th {\n",
       "        vertical-align: top;\n",
       "    }\n",
       "\n",
       "    .dataframe thead th {\n",
       "        text-align: right;\n",
       "    }\n",
       "</style>\n",
       "<table border=\"1\" class=\"dataframe\">\n",
       "  <thead>\n",
       "    <tr style=\"text-align: right;\">\n",
       "      <th></th>\n",
       "      <th>MovieID</th>\n",
       "      <th>YearOfRelease</th>\n",
       "      <th>Title</th>\n",
       "    </tr>\n",
       "  </thead>\n",
       "  <tbody>\n",
       "    <tr>\n",
       "      <th>0</th>\n",
       "      <td>1</td>\n",
       "      <td>2003.0</td>\n",
       "      <td>Dinosaur Planet</td>\n",
       "    </tr>\n",
       "    <tr>\n",
       "      <th>1</th>\n",
       "      <td>2</td>\n",
       "      <td>2004.0</td>\n",
       "      <td>Isle of Man TT 2004 Review</td>\n",
       "    </tr>\n",
       "    <tr>\n",
       "      <th>2</th>\n",
       "      <td>3</td>\n",
       "      <td>1997.0</td>\n",
       "      <td>Character</td>\n",
       "    </tr>\n",
       "    <tr>\n",
       "      <th>3</th>\n",
       "      <td>4</td>\n",
       "      <td>1994.0</td>\n",
       "      <td>Paula Abdul's Get Up &amp; Dance</td>\n",
       "    </tr>\n",
       "    <tr>\n",
       "      <th>4</th>\n",
       "      <td>5</td>\n",
       "      <td>2004.0</td>\n",
       "      <td>The Rise and Fall of ECW</td>\n",
       "    </tr>\n",
       "  </tbody>\n",
       "</table>\n",
       "</div>"
      ],
      "text/plain": [
       "   MovieID  YearOfRelease                         Title\n",
       "0        1         2003.0               Dinosaur Planet\n",
       "1        2         2004.0    Isle of Man TT 2004 Review\n",
       "2        3         1997.0                     Character\n",
       "3        4         1994.0  Paula Abdul's Get Up & Dance\n",
       "4        5         2004.0      The Rise and Fall of ECW"
      ]
     },
     "execution_count": 348,
     "metadata": {},
     "output_type": "execute_result"
    }
   ],
   "source": [
    "movies.head()"
   ]
  },
  {
   "cell_type": "code",
   "execution_count": 7,
   "metadata": {},
   "outputs": [],
   "source": [
    "df1 = pd.read_csv('combined_data_1.txt', names = ['Cust_Id', 'Rating'], usecols = [0,1])\n",
    "df2 = pd.read_csv('combined_data_2.txt', names = ['Cust_Id', 'Rating'], usecols = [0,1])\n",
    "df3 = pd.read_csv('combined_data_3.txt', names = ['Cust_Id', 'Rating'], usecols = [0,1])\n",
    "df4 = pd.read_csv('combined_data_4.txt', names = ['Cust_Id', 'Rating'], usecols = [0,1])"
   ]
  },
  {
   "cell_type": "code",
   "execution_count": 8,
   "metadata": {},
   "outputs": [],
   "source": [
    "df = pd.concat([df1, df2, df3, df4], axis = 0)"
   ]
  },
  {
   "cell_type": "code",
   "execution_count": 9,
   "metadata": {},
   "outputs": [
    {
     "data": {
      "text/html": [
       "<div>\n",
       "<style scoped>\n",
       "    .dataframe tbody tr th:only-of-type {\n",
       "        vertical-align: middle;\n",
       "    }\n",
       "\n",
       "    .dataframe tbody tr th {\n",
       "        vertical-align: top;\n",
       "    }\n",
       "\n",
       "    .dataframe thead th {\n",
       "        text-align: right;\n",
       "    }\n",
       "</style>\n",
       "<table border=\"1\" class=\"dataframe\">\n",
       "  <thead>\n",
       "    <tr style=\"text-align: right;\">\n",
       "      <th></th>\n",
       "      <th>Cust_Id</th>\n",
       "      <th>Rating</th>\n",
       "    </tr>\n",
       "  </thead>\n",
       "  <tbody>\n",
       "    <tr>\n",
       "      <th>0</th>\n",
       "      <td>1:</td>\n",
       "      <td>NaN</td>\n",
       "    </tr>\n",
       "    <tr>\n",
       "      <th>1</th>\n",
       "      <td>1488844</td>\n",
       "      <td>3.0</td>\n",
       "    </tr>\n",
       "    <tr>\n",
       "      <th>2</th>\n",
       "      <td>822109</td>\n",
       "      <td>5.0</td>\n",
       "    </tr>\n",
       "    <tr>\n",
       "      <th>3</th>\n",
       "      <td>885013</td>\n",
       "      <td>4.0</td>\n",
       "    </tr>\n",
       "    <tr>\n",
       "      <th>4</th>\n",
       "      <td>30878</td>\n",
       "      <td>4.0</td>\n",
       "    </tr>\n",
       "  </tbody>\n",
       "</table>\n",
       "</div>"
      ],
      "text/plain": [
       "   Cust_Id  Rating\n",
       "0       1:     NaN\n",
       "1  1488844     3.0\n",
       "2   822109     5.0\n",
       "3   885013     4.0\n",
       "4    30878     4.0"
      ]
     },
     "execution_count": 9,
     "metadata": {},
     "output_type": "execute_result"
    }
   ],
   "source": [
    "df.head()"
   ]
  },
  {
   "cell_type": "code",
   "execution_count": 10,
   "metadata": {},
   "outputs": [
    {
     "data": {
      "text/plain": [
       "(100498277, 2)"
      ]
     },
     "execution_count": 10,
     "metadata": {},
     "output_type": "execute_result"
    }
   ],
   "source": [
    "df.shape"
   ]
  },
  {
   "cell_type": "code",
   "execution_count": 11,
   "metadata": {},
   "outputs": [
    {
     "data": {
      "text/plain": [
       "Cust_Id        0\n",
       "Rating     17770\n",
       "dtype: int64"
      ]
     },
     "execution_count": 11,
     "metadata": {},
     "output_type": "execute_result"
    }
   ],
   "source": [
    "df.isnull().sum()"
   ]
  },
  {
   "cell_type": "code",
   "execution_count": 12,
   "metadata": {},
   "outputs": [],
   "source": [
    "# Extract Movie ID:\n",
    "nan = pd.DataFrame(pd.isnull(df['Rating']))\n",
    "movie_id = df[nan['Rating'] == True]['Cust_Id']"
   ]
  },
  {
   "cell_type": "code",
   "execution_count": 52,
   "metadata": {},
   "outputs": [
    {
     "data": {
      "text/plain": [
       "0            1:\n",
       "548          2:\n",
       "694          3:\n",
       "2707         4:\n",
       "2850         5:\n",
       "           ... \n",
       "2104717    397:\n",
       "2105466    398:\n",
       "2109032    399:\n",
       "2109158    400:\n",
       "2112852    401:\n",
       "Name: Cust_Id, Length: 401, dtype: object"
      ]
     },
     "execution_count": 52,
     "metadata": {},
     "output_type": "execute_result"
    }
   ],
   "source": [
    "movie_id.head(401)"
   ]
  },
  {
   "cell_type": "code",
   "execution_count": 14,
   "metadata": {},
   "outputs": [],
   "source": [
    "# Take the ratings for the first 400 movies as our dataset\n",
    "df_400 = df.iloc[:2112852,]"
   ]
  },
  {
   "cell_type": "code",
   "execution_count": 15,
   "metadata": {},
   "outputs": [
    {
     "data": {
      "text/plain": [
       "(2112852, 2)"
      ]
     },
     "execution_count": 15,
     "metadata": {},
     "output_type": "execute_result"
    }
   ],
   "source": [
    "df_400.shape"
   ]
  },
  {
   "cell_type": "code",
   "execution_count": 16,
   "metadata": {},
   "outputs": [
    {
     "data": {
      "text/plain": [
       "(17770,)"
      ]
     },
     "execution_count": 16,
     "metadata": {},
     "output_type": "execute_result"
    }
   ],
   "source": [
    "movie_id.shape"
   ]
  },
  {
   "cell_type": "code",
   "execution_count": 17,
   "metadata": {
    "scrolled": true
   },
   "outputs": [],
   "source": [
    "m_id = movie_id.iloc[:401,]"
   ]
  },
  {
   "cell_type": "code",
   "execution_count": 18,
   "metadata": {},
   "outputs": [
    {
     "data": {
      "text/plain": [
       "0            1:\n",
       "548          2:\n",
       "694          3:\n",
       "2707         4:\n",
       "2850         5:\n",
       "           ... \n",
       "2104717    397:\n",
       "2105466    398:\n",
       "2109032    399:\n",
       "2109158    400:\n",
       "2112852    401:\n",
       "Name: Cust_Id, Length: 401, dtype: object"
      ]
     },
     "execution_count": 18,
     "metadata": {},
     "output_type": "execute_result"
    }
   ],
   "source": [
    "m_id"
   ]
  },
  {
   "cell_type": "code",
   "execution_count": 19,
   "metadata": {},
   "outputs": [],
   "source": [
    "# Use the index of the movies to generate Movie IDs corresponding to the rows (cutomer IDs)\n",
    "Movie_ID = []\n",
    "for i in range(1,401):\n",
    "    Movie_ID.append((m_id.index[i]-m_id.index[i-1])*[i])\n",
    "    \n",
    "MovieID = sum(Movie_ID, [])"
   ]
  },
  {
   "cell_type": "code",
   "execution_count": 20,
   "metadata": {},
   "outputs": [
    {
     "name": "stdout",
     "output_type": "stream",
     "text": [
      "2112852 2112852\n"
     ]
    }
   ],
   "source": [
    "# Verify that they are the same length\n",
    "print(len(MovieID),df_400.shape[0])"
   ]
  },
  {
   "cell_type": "code",
   "execution_count": 21,
   "metadata": {},
   "outputs": [
    {
     "name": "stderr",
     "output_type": "stream",
     "text": [
      "C:\\Users\\Hanna\\MyAnaconda\\lib\\site-packages\\ipykernel_launcher.py:2: SettingWithCopyWarning: \n",
      "A value is trying to be set on a copy of a slice from a DataFrame.\n",
      "Try using .loc[row_indexer,col_indexer] = value instead\n",
      "\n",
      "See the caveats in the documentation: https://pandas.pydata.org/pandas-docs/stable/user_guide/indexing.html#returning-a-view-versus-a-copy\n",
      "  \n"
     ]
    }
   ],
   "source": [
    "# Assign the Movie IDs to the rows\n",
    "df_400['MovieID'] = MovieID"
   ]
  },
  {
   "cell_type": "code",
   "execution_count": 22,
   "metadata": {},
   "outputs": [
    {
     "data": {
      "text/html": [
       "<div>\n",
       "<style scoped>\n",
       "    .dataframe tbody tr th:only-of-type {\n",
       "        vertical-align: middle;\n",
       "    }\n",
       "\n",
       "    .dataframe tbody tr th {\n",
       "        vertical-align: top;\n",
       "    }\n",
       "\n",
       "    .dataframe thead th {\n",
       "        text-align: right;\n",
       "    }\n",
       "</style>\n",
       "<table border=\"1\" class=\"dataframe\">\n",
       "  <thead>\n",
       "    <tr style=\"text-align: right;\">\n",
       "      <th></th>\n",
       "      <th>Cust_Id</th>\n",
       "      <th>Rating</th>\n",
       "      <th>MovieID</th>\n",
       "    </tr>\n",
       "  </thead>\n",
       "  <tbody>\n",
       "    <tr>\n",
       "      <th>0</th>\n",
       "      <td>1:</td>\n",
       "      <td>NaN</td>\n",
       "      <td>1</td>\n",
       "    </tr>\n",
       "    <tr>\n",
       "      <th>1</th>\n",
       "      <td>1488844</td>\n",
       "      <td>3.0</td>\n",
       "      <td>1</td>\n",
       "    </tr>\n",
       "    <tr>\n",
       "      <th>2</th>\n",
       "      <td>822109</td>\n",
       "      <td>5.0</td>\n",
       "      <td>1</td>\n",
       "    </tr>\n",
       "    <tr>\n",
       "      <th>3</th>\n",
       "      <td>885013</td>\n",
       "      <td>4.0</td>\n",
       "      <td>1</td>\n",
       "    </tr>\n",
       "    <tr>\n",
       "      <th>4</th>\n",
       "      <td>30878</td>\n",
       "      <td>4.0</td>\n",
       "      <td>1</td>\n",
       "    </tr>\n",
       "  </tbody>\n",
       "</table>\n",
       "</div>"
      ],
      "text/plain": [
       "   Cust_Id  Rating  MovieID\n",
       "0       1:     NaN        1\n",
       "1  1488844     3.0        1\n",
       "2   822109     5.0        1\n",
       "3   885013     4.0        1\n",
       "4    30878     4.0        1"
      ]
     },
     "execution_count": 22,
     "metadata": {},
     "output_type": "execute_result"
    }
   ],
   "source": [
    "df_400.head()"
   ]
  },
  {
   "cell_type": "code",
   "execution_count": 23,
   "metadata": {},
   "outputs": [],
   "source": [
    "# Delete the rows with the original Movie IDs\n",
    "df_400_noNA = df_400.dropna()"
   ]
  },
  {
   "cell_type": "code",
   "execution_count": 24,
   "metadata": {},
   "outputs": [
    {
     "data": {
      "text/plain": [
       "Cust_Id    0\n",
       "Rating     0\n",
       "MovieID    0\n",
       "dtype: int64"
      ]
     },
     "execution_count": 24,
     "metadata": {},
     "output_type": "execute_result"
    }
   ],
   "source": [
    "df_400_noNA.isnull().sum()"
   ]
  },
  {
   "cell_type": "code",
   "execution_count": 25,
   "metadata": {},
   "outputs": [
    {
     "data": {
      "text/plain": [
       "(2112452, 3)"
      ]
     },
     "execution_count": 25,
     "metadata": {},
     "output_type": "execute_result"
    }
   ],
   "source": [
    "df_400_noNA.shape"
   ]
  },
  {
   "cell_type": "code",
   "execution_count": 26,
   "metadata": {},
   "outputs": [
    {
     "data": {
      "text/html": [
       "<div>\n",
       "<style scoped>\n",
       "    .dataframe tbody tr th:only-of-type {\n",
       "        vertical-align: middle;\n",
       "    }\n",
       "\n",
       "    .dataframe tbody tr th {\n",
       "        vertical-align: top;\n",
       "    }\n",
       "\n",
       "    .dataframe thead th {\n",
       "        text-align: right;\n",
       "    }\n",
       "</style>\n",
       "<table border=\"1\" class=\"dataframe\">\n",
       "  <thead>\n",
       "    <tr style=\"text-align: right;\">\n",
       "      <th></th>\n",
       "      <th>Cust_Id</th>\n",
       "      <th>Rating</th>\n",
       "      <th>MovieID</th>\n",
       "    </tr>\n",
       "  </thead>\n",
       "  <tbody>\n",
       "    <tr>\n",
       "      <th>1</th>\n",
       "      <td>1488844</td>\n",
       "      <td>3.0</td>\n",
       "      <td>1</td>\n",
       "    </tr>\n",
       "    <tr>\n",
       "      <th>2</th>\n",
       "      <td>822109</td>\n",
       "      <td>5.0</td>\n",
       "      <td>1</td>\n",
       "    </tr>\n",
       "    <tr>\n",
       "      <th>3</th>\n",
       "      <td>885013</td>\n",
       "      <td>4.0</td>\n",
       "      <td>1</td>\n",
       "    </tr>\n",
       "    <tr>\n",
       "      <th>4</th>\n",
       "      <td>30878</td>\n",
       "      <td>4.0</td>\n",
       "      <td>1</td>\n",
       "    </tr>\n",
       "    <tr>\n",
       "      <th>5</th>\n",
       "      <td>823519</td>\n",
       "      <td>3.0</td>\n",
       "      <td>1</td>\n",
       "    </tr>\n",
       "  </tbody>\n",
       "</table>\n",
       "</div>"
      ],
      "text/plain": [
       "   Cust_Id  Rating  MovieID\n",
       "1  1488844     3.0        1\n",
       "2   822109     5.0        1\n",
       "3   885013     4.0        1\n",
       "4    30878     4.0        1\n",
       "5   823519     3.0        1"
      ]
     },
     "execution_count": 26,
     "metadata": {},
     "output_type": "execute_result"
    }
   ],
   "source": [
    "df_400_noNA.head()"
   ]
  },
  {
   "cell_type": "markdown",
   "metadata": {},
   "source": [
    "## Create the MovieID column for the whole dataset"
   ]
  },
  {
   "cell_type": "code",
   "execution_count": 65,
   "metadata": {},
   "outputs": [],
   "source": [
    "# Use the index of the movies to generate Movie IDs corresponding to the rows (cutomer IDs)\n",
    "Movie_ID = []\n",
    "for i in range(1,len(movie_id)):\n",
    "    Movie_ID.append((movie_id.index[i]-movie_id.index[i-1])*[(i)])\n",
    "    \n",
    "MovieID = sum(Movie_ID, [])"
   ]
  },
  {
   "cell_type": "code",
   "execution_count": 66,
   "metadata": {},
   "outputs": [
    {
     "data": {
      "text/plain": [
       "100495019"
      ]
     },
     "execution_count": 66,
     "metadata": {},
     "output_type": "execute_result"
    }
   ],
   "source": [
    "len(MovieID)\n",
    "df = df.iloc[:100495019,]\n",
    "df['MovieID'] = MovieID"
   ]
  },
  {
   "cell_type": "code",
   "execution_count": 72,
   "metadata": {},
   "outputs": [],
   "source": [
    "# Remove the rows that used to store the Movies IDs\n",
    "df_clean = df.dropna()"
   ]
  },
  {
   "cell_type": "code",
   "execution_count": 73,
   "metadata": {},
   "outputs": [],
   "source": [
    "df_clean.to_csv('C:/Users/Hanna/Desktop/LU/Chapman/2020 Spring/CS 530_Data Mining/Project/df_clean.csv')"
   ]
  },
  {
   "cell_type": "code",
   "execution_count": 472,
   "metadata": {},
   "outputs": [
    {
     "data": {
      "text/plain": [
       "((2112452, 3), (2116009, 3), (3769760, 3))"
      ]
     },
     "execution_count": 472,
     "metadata": {},
     "output_type": "execute_result"
    }
   ],
   "source": [
    "df_400_1 = df_clean[df_clean['MovieID']<=400]\n",
    "df_400_2 = df_clean[(df_clean['MovieID']>400) & (df_clean['MovieID']<=800)]\n",
    "df_400_3 = df_clean[(df_clean['MovieID']>800) & (df_clean['MovieID']<=1600)]\n",
    "df_400_1.shape, df_400_2.shape, df_400_3.shape"
   ]
  },
  {
   "cell_type": "code",
   "execution_count": 84,
   "metadata": {},
   "outputs": [],
   "source": [
    "def fit_predict(algo, train, test):\n",
    "    model = algo.fit(train)\n",
    "    prediction = model.test(test)\n",
    "    return(accuracy.rmse(prediction))"
   ]
  },
  {
   "cell_type": "code",
   "execution_count": 97,
   "metadata": {},
   "outputs": [
    {
     "name": "stdout",
     "output_type": "stream",
     "text": [
      "RMSE: 1.0145\n",
      "RMSE: 1.0242\n",
      "RMSE: 1.0348\n",
      "RMSE: 1.0667\n",
      "Estimating biases using sgd...\n",
      "RMSE: 1.0273\n",
      "RMSE: 0.9772\n",
      "Computing the msd similarity matrix...\n",
      "Done computing similarity matrix.\n",
      "RMSE: 1.0416\n",
      "Computing the msd similarity matrix...\n",
      "Done computing similarity matrix.\n",
      "RMSE: 0.9945\n",
      "Estimating biases using als...\n",
      "Computing the msd similarity matrix...\n",
      "Done computing similarity matrix.\n",
      "RMSE: 0.9797\n",
      "RMSE: 1.0042\n",
      "RMSE: 1.0254\n",
      "RMSE: 1.0268\n",
      "RMSE: 1.0564\n",
      "Estimating biases using sgd...\n",
      "RMSE: 1.0204\n",
      "RMSE: 0.9724\n",
      "Computing the msd similarity matrix...\n",
      "Done computing similarity matrix.\n",
      "RMSE: 1.0238\n",
      "Computing the msd similarity matrix...\n",
      "Done computing similarity matrix.\n",
      "RMSE: 0.9872\n",
      "Estimating biases using als...\n",
      "Computing the msd similarity matrix...\n",
      "Done computing similarity matrix.\n",
      "RMSE: 0.9734\n",
      "RMSE: 0.9638\n",
      "RMSE: 1.0891\n",
      "RMSE: 0.9731\n",
      "RMSE: 1.0062\n",
      "Estimating biases using sgd...\n",
      "RMSE: 1.0053\n",
      "RMSE: 0.9340\n",
      "Computing the msd similarity matrix...\n",
      "Done computing similarity matrix.\n",
      "RMSE: 1.0057\n",
      "Computing the msd similarity matrix...\n",
      "Done computing similarity matrix.\n",
      "RMSE: 0.9512\n",
      "Estimating biases using als...\n",
      "Computing the msd similarity matrix...\n",
      "Done computing similarity matrix.\n",
      "RMSE: 0.9389\n"
     ]
    }
   ],
   "source": [
    "reader = Reader(rating_scale=(1, 5))\n",
    "df_all = [df_400_1, df_400_2, df_400_3]\n",
    "rmse = []\n",
    "\n",
    "for data in df_all:\n",
    "    d = Dataset.load_from_df(data[['Cust_Id', 'MovieID', 'Rating']], reader)\n",
    "    train, test = train_test_split(d, test_size = 0.3)\n",
    "    \n",
    "    # SVD:\n",
    "    svd = SVD(n_factors = 20, lr_all = 0.005, reg_all = 0.01)\n",
    "    rmse.append(fit_predict(svd, train, test))\n",
    "    \n",
    "    # NMF:\n",
    "    nmf = NMF(n_factors = 20, n_epochs = 20, biased = True)\n",
    "    rmse.append(fit_predict(nmf, train, test))\n",
    "    \n",
    "    # SlopeOne:\n",
    "    slope = SlopeOne()\n",
    "    rmse.append(fit_predict(slope, train, test))\n",
    "    \n",
    "    # CoClustering:\n",
    "    cc = CoClustering(n_cltr_u = 2, n_cltr_i = 2)\n",
    "    rmse.append(fit_predict(cc, train, test))\n",
    "    \n",
    "    # BaselineOnly\n",
    "    bsl_options = {'method': 'sgd','learning_rate': .00005}\n",
    "    bsl = BaselineOnly(bsl_options = bsl_options)\n",
    "    rmse.append(fit_predict(bsl, train, test))\n",
    "    \n",
    "    # SVD++\n",
    "    svdpp = SVDpp(n_factors = 50, lr_all = 0.005, reg_all = 0.02)\n",
    "    rmse.append(fit_predict(svdpp, train, test))\n",
    "\n",
    "    # KNNBasic\n",
    "    sim_options = {'name': 'MSD', 'user_based': False}\n",
    "    knn_basic = KNNBasic(k=20, sim_options = sim_options, min_k = 5)\n",
    "    rmse.append(fit_predict(knn_basic, train, test))\n",
    "    \n",
    "    # KNNWithMeans\n",
    "    sim_options = {'name': 'MSD', 'user_based': False, 'shrinkage': 10}\n",
    "    knn = KNNWithMeans(k=20, sim_options = sim_options, min_k = 8)\n",
    "    rmse.append(fit_predict(knn, train, test))\n",
    "    \n",
    "    # KNNBaseline\n",
    "    sim_options = {'name': 'MSD', 'user_based': False, 'shrinkage': 10}\n",
    "    knn_bsl = KNNBaseline(k=20, sim_options = sim_options, min_k = 8)\n",
    "    rmse.append(fit_predict(knn_bsl, train, test))"
   ]
  },
  {
   "cell_type": "markdown",
   "metadata": {},
   "source": [
    "## Plot the RMSE vs Sample Size by Algorithm"
   ]
  },
  {
   "cell_type": "code",
   "execution_count": 459,
   "metadata": {},
   "outputs": [],
   "source": [
    "# Load the RMSE results for 700 movie subset and 1000 movie subset\n",
    "df_700 = pd.read_csv('result_700.csv')\n",
    "df_1k = pd.read_csv('result_1000.csv')"
   ]
  },
  {
   "cell_type": "code",
   "execution_count": 504,
   "metadata": {},
   "outputs": [
    {
     "data": {
      "text/html": [
       "<div>\n",
       "<style scoped>\n",
       "    .dataframe tbody tr th:only-of-type {\n",
       "        vertical-align: middle;\n",
       "    }\n",
       "\n",
       "    .dataframe tbody tr th {\n",
       "        vertical-align: top;\n",
       "    }\n",
       "\n",
       "    .dataframe thead th {\n",
       "        text-align: right;\n",
       "    }\n",
       "</style>\n",
       "<table border=\"1\" class=\"dataframe\">\n",
       "  <thead>\n",
       "    <tr style=\"text-align: right;\">\n",
       "      <th></th>\n",
       "      <th>Algorithm</th>\n",
       "      <th>Slice_1</th>\n",
       "      <th>Slice_2</th>\n",
       "      <th>Slice_3</th>\n",
       "    </tr>\n",
       "  </thead>\n",
       "  <tbody>\n",
       "    <tr>\n",
       "      <th>0</th>\n",
       "      <td>SVD</td>\n",
       "      <td>0.9513</td>\n",
       "      <td>0.9358</td>\n",
       "      <td>0.9434</td>\n",
       "    </tr>\n",
       "    <tr>\n",
       "      <th>1</th>\n",
       "      <td>NMF</td>\n",
       "      <td>1.0247</td>\n",
       "      <td>1.0010</td>\n",
       "      <td>1.0068</td>\n",
       "    </tr>\n",
       "    <tr>\n",
       "      <th>2</th>\n",
       "      <td>SlopeOne</td>\n",
       "      <td>0.9734</td>\n",
       "      <td>0.9576</td>\n",
       "      <td>0.9615</td>\n",
       "    </tr>\n",
       "    <tr>\n",
       "      <th>3</th>\n",
       "      <td>CoClustering</td>\n",
       "      <td>0.9993</td>\n",
       "      <td>0.9855</td>\n",
       "      <td>0.9910</td>\n",
       "    </tr>\n",
       "    <tr>\n",
       "      <th>4</th>\n",
       "      <td>BaselineOnly</td>\n",
       "      <td>0.9559</td>\n",
       "      <td>0.9436</td>\n",
       "      <td>0.9442</td>\n",
       "    </tr>\n",
       "    <tr>\n",
       "      <th>5</th>\n",
       "      <td>SVD++</td>\n",
       "      <td>0.9408</td>\n",
       "      <td>0.9207</td>\n",
       "      <td>0.9246</td>\n",
       "    </tr>\n",
       "    <tr>\n",
       "      <th>6</th>\n",
       "      <td>KNNBasic</td>\n",
       "      <td>0.9955</td>\n",
       "      <td>0.9930</td>\n",
       "      <td>1.0405</td>\n",
       "    </tr>\n",
       "    <tr>\n",
       "      <th>7</th>\n",
       "      <td>KNNWithMeans</td>\n",
       "      <td>0.9518</td>\n",
       "      <td>0.9407</td>\n",
       "      <td>0.9408</td>\n",
       "    </tr>\n",
       "    <tr>\n",
       "      <th>8</th>\n",
       "      <td>KNNBaseline</td>\n",
       "      <td>0.9388</td>\n",
       "      <td>0.9231</td>\n",
       "      <td>0.9266</td>\n",
       "    </tr>\n",
       "  </tbody>\n",
       "</table>\n",
       "</div>"
      ],
      "text/plain": [
       "      Algorithm  Slice_1  Slice_2  Slice_3\n",
       "0           SVD   0.9513   0.9358   0.9434\n",
       "1           NMF   1.0247   1.0010   1.0068\n",
       "2      SlopeOne   0.9734   0.9576   0.9615\n",
       "3  CoClustering   0.9993   0.9855   0.9910\n",
       "4  BaselineOnly   0.9559   0.9436   0.9442\n",
       "5         SVD++   0.9408   0.9207   0.9246\n",
       "6      KNNBasic   0.9955   0.9930   1.0405\n",
       "7  KNNWithMeans   0.9518   0.9407   0.9408\n",
       "8   KNNBaseline   0.9388   0.9231   0.9266"
      ]
     },
     "execution_count": 504,
     "metadata": {},
     "output_type": "execute_result"
    }
   ],
   "source": [
    "df_1k"
   ]
  },
  {
   "cell_type": "code",
   "execution_count": 462,
   "metadata": {},
   "outputs": [],
   "source": [
    "# Combine the RMSE results for all three subsets into one column\n",
    "rmse_700 = [x for x in df_700['Slice_1']] + [x for x in df_700['Slice_2']] + [x for x in df_700['Slice_3']]\n",
    "rmse_1k = [x for x in df_1k['Slice_1']] + [x for x in df_1k['Slice_2']] + [x for x in df_1k['Slice_3']]\n",
    "rmse_all = rmse + rmse_700 + rmse_1k"
   ]
  },
  {
   "cell_type": "code",
   "execution_count": 108,
   "metadata": {},
   "outputs": [],
   "source": [
    "# Make a column for Algorithms\n",
    "algorithms = ['SVD', 'NMF', 'SlopeOne', 'CoClustering', 'BaselineOnly', 'SVD++', 'KNNBasic', 'KNNWithMeans', 'KNNBaseline']\n",
    "algorithms_3 = algorithms*9"
   ]
  },
  {
   "cell_type": "code",
   "execution_count": 172,
   "metadata": {},
   "outputs": [],
   "source": [
    "# Make a column for Sample Sizes\n",
    "size = ['400 Movies']*27+ ['700 Movies']*27+ ['1000 Moives']*27"
   ]
  },
  {
   "cell_type": "code",
   "execution_count": 176,
   "metadata": {},
   "outputs": [],
   "source": [
    "# Make a column for slices\n",
    "Slice = [['Slice_1']*9 +['Slice_2']*9 + ['Slice_3']*9]*3\n",
    "Slices = sum(Slice, []) # Flatten the list of lists"
   ]
  },
  {
   "cell_type": "code",
   "execution_count": 466,
   "metadata": {},
   "outputs": [],
   "source": [
    "# Combine the columns for RMSE, Algorithms, Sample Sizes, Slices into a dataframe\n",
    "df_plot = pd.DataFrame({'RMSE': rmse_all, 'Sample Size': size, 'Slice': Slices, 'Algorithms': algorithms_3})"
   ]
  },
  {
   "cell_type": "code",
   "execution_count": 503,
   "metadata": {},
   "outputs": [
    {
     "data": {
      "text/plain": [
       "<Figure size 720x1080 with 0 Axes>"
      ]
     },
     "metadata": {},
     "output_type": "display_data"
    },
    {
     "data": {
      "image/png": "[encoded data removed]",
      "text/plain": [
       "<Figure size 1080x360 with 3 Axes>"
      ]
     },
     "metadata": {},
     "output_type": "display_data"
    }
   ],
   "source": [
    "# Plot the RMSE vs Sameple Size for each Slice by Algorithm\n",
    "plt.figure(figsize=(10,15))\n",
    "\n",
    "sns.set(rc={'text.color':\"white\", \n",
    "            'axes.labelcolor': 'white', \n",
    "            'xtick.color': 'white', \n",
    "            'ytick.color': 'white', \n",
    "            'axes.facecolor': '#949fb5',\n",
    "            'figure.facecolor': '#2a3242'}, \n",
    "        font_scale=1.5)\n",
    "\n",
    "g=sns.catplot(x=\"Sample Size\", y=\"RMSE\", hue=\"Algorithms\", ci=None, col = 'Slice',\n",
    "                capsize=.1, kind=\"point\", data=df_plot, legend = False, label='small',palette='BuGn_r')\n",
    "\n",
    "(g.set_axis_labels(\"Sample Size\", \"RMSE\")\n",
    " .set_xticklabels(['400 Movies', '700 Moives', '1000 Movies'])\n",
    " .set_titles(\"{col_name}\")\n",
    " .despine(left=True))  \n",
    "\n",
    "plt.legend(title = 'Algorithms',bbox_to_anchor=(1, 1), fontsize=14)\n",
    "g.fig.suptitle('RMSE vs Sample Size by Algorithm', y =1.05, fontweight=\"bold\")\n",
    "\n",
    "plt.show()"
   ]
  },
  {
   "cell_type": "markdown",
   "metadata": {},
   "source": [
    "## Predictions and Recommendations"
   ]
  },
  {
   "cell_type": "code",
   "execution_count": 261,
   "metadata": {},
   "outputs": [],
   "source": [
    "# Build the model with the best algorithm (SVD++)\n",
    "d = Dataset.load_from_df(df_400_3[['Cust_Id', 'MovieID', 'Rating']], reader)\n",
    "train, test = train_test_split(d, test_size = 0.3)\n",
    "svdpp = SVDpp(n_factors = 50, lr_all = 0.005, reg_all = 0.02)\n",
    "svdpp = svdpp.fit(train)"
   ]
  },
  {
   "cell_type": "code",
   "execution_count": 439,
   "metadata": {},
   "outputs": [],
   "source": [
    "def pred_movie_merge(prediction):\n",
    "    global movies\n",
    "    Cust_Id, MovieID, Rating, Predicted_Rating = [], [], [], []\n",
    "    \n",
    "    # Convert the predictions to a dataframe:\n",
    "    for i in range(len(prediction)):\n",
    "        Cust_Id.append(prediction[i][0])\n",
    "        MovieID.append(prediction[i][1])\n",
    "        Predicted_Rating.append(prediction[i][3])\n",
    "    df = pd.DataFrame({'Cust_Id':Cust_Id,'MovieID':MovieID,'Predicted_Rating':Predicted_Rating}) \n",
    "    \n",
    "    # Merge the predictions and movies datasets to get the Movie Title and Year of Release columns:\n",
    "    df['MovieID'] = df['MovieID'].astype(str)\n",
    "    movies['MovieID'] = movies['MovieID'].astype(str)\n",
    "    pred_movie = pd.merge(df, movies, how = 'left', on = 'MovieID')\n",
    "    \n",
    "    return(pred_movie)"
   ]
  },
  {
   "cell_type": "code",
   "execution_count": 496,
   "metadata": {},
   "outputs": [],
   "source": [
    "def recommend(dataset, model, customerID, top=5):\n",
    "    m_ids = dataset['MovieID'].unique() # Find unique movie IDs\n",
    "    rated = dataset.loc[dataset['Cust_Id']==str(customerID),'MovieID'] # Find the movies the customer rated\n",
    "    m_to_pred = np.setdiff1d(m_ids, rated) # Remove the movies the customer rated\n",
    "    test_set = [[str(customerID), m, 4.] for m in m_to_pred] # Make a list of the movies to be rated\n",
    "    prediction = model.test(test_set) # Predict ratings on the movies to be rated   \n",
    "    pred_movie = pred_movie_merge(prediction) # Get the Title and YearOfRelease columns from the movies dataset\n",
    "    ratings = pred_movie[pred_movie['Cust_Id']==str(customerID)] # Get the predicted ratings for the specified customerID\n",
    "    recommendations = ratings.sort_values(['Predicted_Rating'], ascending=0)[['Title','YearOfRelease','Predicted_Rating']][:top]\n",
    "    print(top,'Movie Recommendations for Customer ' + str(customerID) + ':')\n",
    "    return(recommendations)"
   ]
  },
  {
   "cell_type": "code",
   "execution_count": 453,
   "metadata": {},
   "outputs": [
    {
     "name": "stdout",
     "output_type": "stream",
     "text": [
      "Movie Recommendations for Customer 1544402:\n"
     ]
    },
    {
     "data": {
      "text/html": [
       "<div>\n",
       "<style scoped>\n",
       "    .dataframe tbody tr th:only-of-type {\n",
       "        vertical-align: middle;\n",
       "    }\n",
       "\n",
       "    .dataframe tbody tr th {\n",
       "        vertical-align: top;\n",
       "    }\n",
       "\n",
       "    .dataframe thead th {\n",
       "        text-align: right;\n",
       "    }\n",
       "</style>\n",
       "<table border=\"1\" class=\"dataframe\">\n",
       "  <thead>\n",
       "    <tr style=\"text-align: right;\">\n",
       "      <th></th>\n",
       "      <th>Title</th>\n",
       "      <th>YearOfRelease</th>\n",
       "      <th>Predicted_Rating</th>\n",
       "    </tr>\n",
       "  </thead>\n",
       "  <tbody>\n",
       "    <tr>\n",
       "      <th>307</th>\n",
       "      <td>Secondhand Lions</td>\n",
       "      <td>2003.0</td>\n",
       "      <td>5.000000</td>\n",
       "    </tr>\n",
       "    <tr>\n",
       "      <th>607</th>\n",
       "      <td>Inu-Yasha: The Movie 3: Swords of an Honorable...</td>\n",
       "      <td>2002.0</td>\n",
       "      <td>5.000000</td>\n",
       "    </tr>\n",
       "    <tr>\n",
       "      <th>212</th>\n",
       "      <td>Dr. Quinn</td>\n",
       "      <td>1996.0</td>\n",
       "      <td>5.000000</td>\n",
       "    </tr>\n",
       "    <tr>\n",
       "      <th>413</th>\n",
       "      <td>Little House on the Prairie: Season 6</td>\n",
       "      <td>1979.0</td>\n",
       "      <td>4.972555</td>\n",
       "    </tr>\n",
       "    <tr>\n",
       "      <th>270</th>\n",
       "      <td>Coach Carter</td>\n",
       "      <td>2005.0</td>\n",
       "      <td>4.933816</td>\n",
       "    </tr>\n",
       "  </tbody>\n",
       "</table>\n",
       "</div>"
      ],
      "text/plain": [
       "                                                 Title  YearOfRelease  \\\n",
       "307                                   Secondhand Lions         2003.0   \n",
       "607  Inu-Yasha: The Movie 3: Swords of an Honorable...         2002.0   \n",
       "212                                          Dr. Quinn         1996.0   \n",
       "413              Little House on the Prairie: Season 6         1979.0   \n",
       "270                                       Coach Carter         2005.0   \n",
       "\n",
       "     Predicted_Rating  \n",
       "307          5.000000  \n",
       "607          5.000000  \n",
       "212          5.000000  \n",
       "413          4.972555  \n",
       "270          4.933816  "
      ]
     },
     "execution_count": 453,
     "metadata": {},
     "output_type": "execute_result"
    }
   ],
   "source": [
    "# Recommend 5 movies for customer 1544402\n",
    "top = 5\n",
    "recommend(df_400_3, svdpp, 1544402, top)"
   ]
  },
  {
   "cell_type": "code",
   "execution_count": 497,
   "metadata": {},
   "outputs": [
    {
     "name": "stdout",
     "output_type": "stream",
     "text": [
      "7 Movie Recommendations for Customer 1488844:\n"
     ]
    },
    {
     "data": {
      "text/html": [
       "<div>\n",
       "<style scoped>\n",
       "    .dataframe tbody tr th:only-of-type {\n",
       "        vertical-align: middle;\n",
       "    }\n",
       "\n",
       "    .dataframe tbody tr th {\n",
       "        vertical-align: top;\n",
       "    }\n",
       "\n",
       "    .dataframe thead th {\n",
       "        text-align: right;\n",
       "    }\n",
       "</style>\n",
       "<table border=\"1\" class=\"dataframe\">\n",
       "  <thead>\n",
       "    <tr style=\"text-align: right;\">\n",
       "      <th></th>\n",
       "      <th>Title</th>\n",
       "      <th>YearOfRelease</th>\n",
       "      <th>Predicted_Rating</th>\n",
       "    </tr>\n",
       "  </thead>\n",
       "  <tbody>\n",
       "    <tr>\n",
       "      <th>191</th>\n",
       "      <td>I Love Lucy: Season 5</td>\n",
       "      <td>1955.0</td>\n",
       "      <td>4.125647</td>\n",
       "    </tr>\n",
       "    <tr>\n",
       "      <th>350</th>\n",
       "      <td>The Andy Griffith Show: Vol 3: Andy Discovers ...</td>\n",
       "      <td>1963.0</td>\n",
       "      <td>4.125529</td>\n",
       "    </tr>\n",
       "    <tr>\n",
       "      <th>384</th>\n",
       "      <td>La Femme Nikita: Season 2</td>\n",
       "      <td>1998.0</td>\n",
       "      <td>4.098818</td>\n",
       "    </tr>\n",
       "    <tr>\n",
       "      <th>538</th>\n",
       "      <td>Inu-Yasha: The Movie 3: Swords of an Honorable...</td>\n",
       "      <td>2002.0</td>\n",
       "      <td>4.090971</td>\n",
       "    </tr>\n",
       "    <tr>\n",
       "      <th>121</th>\n",
       "      <td>Read Or Die</td>\n",
       "      <td>2003.0</td>\n",
       "      <td>4.061142</td>\n",
       "    </tr>\n",
       "    <tr>\n",
       "      <th>484</th>\n",
       "      <td>Stargate SG-1: Season 7</td>\n",
       "      <td>2003.0</td>\n",
       "      <td>4.054499</td>\n",
       "    </tr>\n",
       "    <tr>\n",
       "      <th>239</th>\n",
       "      <td>As Time Goes By: Series 8</td>\n",
       "      <td>2000.0</td>\n",
       "      <td>4.044096</td>\n",
       "    </tr>\n",
       "  </tbody>\n",
       "</table>\n",
       "</div>"
      ],
      "text/plain": [
       "                                                 Title  YearOfRelease  \\\n",
       "191                              I Love Lucy: Season 5         1955.0   \n",
       "350  The Andy Griffith Show: Vol 3: Andy Discovers ...         1963.0   \n",
       "384                          La Femme Nikita: Season 2         1998.0   \n",
       "538  Inu-Yasha: The Movie 3: Swords of an Honorable...         2002.0   \n",
       "121                                        Read Or Die         2003.0   \n",
       "484                            Stargate SG-1: Season 7         2003.0   \n",
       "239                          As Time Goes By: Series 8         2000.0   \n",
       "\n",
       "     Predicted_Rating  \n",
       "191          4.125647  \n",
       "350          4.125529  \n",
       "384          4.098818  \n",
       "538          4.090971  \n",
       "121          4.061142  \n",
       "484          4.054499  \n",
       "239          4.044096  "
      ]
     },
     "execution_count": 497,
     "metadata": {},
     "output_type": "execute_result"
    }
   ],
   "source": [
    "# Recommend 7 movies for customer 1488844:\n",
    "top = 7\n",
    "recommend(df_400_3, svdpp, 1488844, top)"
   ]
  },
  {
   "cell_type": "code",
   "execution_count": 455,
   "metadata": {},
   "outputs": [
    {
     "name": "stdout",
     "output_type": "stream",
     "text": [
      "Movie Recommendations for Customer 822109:\n"
     ]
    },
    {
     "data": {
      "text/html": [
       "<div>\n",
       "<style scoped>\n",
       "    .dataframe tbody tr th:only-of-type {\n",
       "        vertical-align: middle;\n",
       "    }\n",
       "\n",
       "    .dataframe tbody tr th {\n",
       "        vertical-align: top;\n",
       "    }\n",
       "\n",
       "    .dataframe thead th {\n",
       "        text-align: right;\n",
       "    }\n",
       "</style>\n",
       "<table border=\"1\" class=\"dataframe\">\n",
       "  <thead>\n",
       "    <tr style=\"text-align: right;\">\n",
       "      <th></th>\n",
       "      <th>Title</th>\n",
       "      <th>YearOfRelease</th>\n",
       "      <th>Predicted_Rating</th>\n",
       "    </tr>\n",
       "  </thead>\n",
       "  <tbody>\n",
       "    <tr>\n",
       "      <th>514</th>\n",
       "      <td>Midori Days</td>\n",
       "      <td>2005.0</td>\n",
       "      <td>4.579078</td>\n",
       "    </tr>\n",
       "    <tr>\n",
       "      <th>424</th>\n",
       "      <td>Carlos Mencia: Not for the Easily Offended: Li...</td>\n",
       "      <td>2005.0</td>\n",
       "      <td>4.409443</td>\n",
       "    </tr>\n",
       "    <tr>\n",
       "      <th>79</th>\n",
       "      <td>Sharpe 4: Sharpe's Enemy</td>\n",
       "      <td>1994.0</td>\n",
       "      <td>4.408602</td>\n",
       "    </tr>\n",
       "    <tr>\n",
       "      <th>705</th>\n",
       "      <td>The Twilight Zone: Vol. 42</td>\n",
       "      <td>1962.0</td>\n",
       "      <td>4.340480</td>\n",
       "    </tr>\n",
       "    <tr>\n",
       "      <th>437</th>\n",
       "      <td>La Femme Nikita: Season 2</td>\n",
       "      <td>1998.0</td>\n",
       "      <td>4.322515</td>\n",
       "    </tr>\n",
       "  </tbody>\n",
       "</table>\n",
       "</div>"
      ],
      "text/plain": [
       "                                                 Title  YearOfRelease  \\\n",
       "514                                        Midori Days         2005.0   \n",
       "424  Carlos Mencia: Not for the Easily Offended: Li...         2005.0   \n",
       "79                            Sharpe 4: Sharpe's Enemy         1994.0   \n",
       "705                         The Twilight Zone: Vol. 42         1962.0   \n",
       "437                          La Femme Nikita: Season 2         1998.0   \n",
       "\n",
       "     Predicted_Rating  \n",
       "514          4.579078  \n",
       "424          4.409443  \n",
       "79           4.408602  \n",
       "705          4.340480  \n",
       "437          4.322515  "
      ]
     },
     "execution_count": 455,
     "metadata": {},
     "output_type": "execute_result"
    }
   ],
   "source": [
    "# Recommend 5 movies for customer 822109:\n",
    "top = 5\n",
    "recommend(df_400_3, svdpp, 822109, top = 5)"
   ]
  },
  {
   "cell_type": "code",
   "execution_count": 456,
   "metadata": {},
   "outputs": [
    {
     "name": "stdout",
     "output_type": "stream",
     "text": [
      "Movie Recommendations for Customer 885013:\n"
     ]
    },
    {
     "data": {
      "text/html": [
       "<div>\n",
       "<style scoped>\n",
       "    .dataframe tbody tr th:only-of-type {\n",
       "        vertical-align: middle;\n",
       "    }\n",
       "\n",
       "    .dataframe tbody tr th {\n",
       "        vertical-align: top;\n",
       "    }\n",
       "\n",
       "    .dataframe thead th {\n",
       "        text-align: right;\n",
       "    }\n",
       "</style>\n",
       "<table border=\"1\" class=\"dataframe\">\n",
       "  <thead>\n",
       "    <tr style=\"text-align: right;\">\n",
       "      <th></th>\n",
       "      <th>Title</th>\n",
       "      <th>YearOfRelease</th>\n",
       "      <th>Predicted_Rating</th>\n",
       "    </tr>\n",
       "  </thead>\n",
       "  <tbody>\n",
       "    <tr>\n",
       "      <th>607</th>\n",
       "      <td>Inu-Yasha: The Movie 3: Swords of an Honorable...</td>\n",
       "      <td>2002.0</td>\n",
       "      <td>5.000000</td>\n",
       "    </tr>\n",
       "    <tr>\n",
       "      <th>447</th>\n",
       "      <td>Better Off Dead</td>\n",
       "      <td>1985.0</td>\n",
       "      <td>4.858763</td>\n",
       "    </tr>\n",
       "    <tr>\n",
       "      <th>69</th>\n",
       "      <td>Seven Samurai</td>\n",
       "      <td>1954.0</td>\n",
       "      <td>4.845166</td>\n",
       "    </tr>\n",
       "    <tr>\n",
       "      <th>687</th>\n",
       "      <td>FLCL</td>\n",
       "      <td>2000.0</td>\n",
       "      <td>4.795055</td>\n",
       "    </tr>\n",
       "    <tr>\n",
       "      <th>757</th>\n",
       "      <td>Doctor Who: Carnival of Monsters</td>\n",
       "      <td>1973.0</td>\n",
       "      <td>4.768916</td>\n",
       "    </tr>\n",
       "  </tbody>\n",
       "</table>\n",
       "</div>"
      ],
      "text/plain": [
       "                                                 Title  YearOfRelease  \\\n",
       "607  Inu-Yasha: The Movie 3: Swords of an Honorable...         2002.0   \n",
       "447                                    Better Off Dead         1985.0   \n",
       "69                                       Seven Samurai         1954.0   \n",
       "687                                               FLCL         2000.0   \n",
       "757                   Doctor Who: Carnival of Monsters         1973.0   \n",
       "\n",
       "     Predicted_Rating  \n",
       "607          5.000000  \n",
       "447          4.858763  \n",
       "69           4.845166  \n",
       "687          4.795055  \n",
       "757          4.768916  "
      ]
     },
     "execution_count": 456,
     "metadata": {},
     "output_type": "execute_result"
    }
   ],
   "source": [
    "# Recommend 5 movies for customer 885013:\n",
    "top = 5\n",
    "recommend(df_400_3, svdpp, 885013, top = 5)"
   ]
  },
  {
   "cell_type": "code",
   "execution_count": 498,
   "metadata": {},
   "outputs": [
    {
     "name": "stdout",
     "output_type": "stream",
     "text": [
      "5 Movie Recommendations for Customer 804974:\n"
     ]
    },
    {
     "data": {
      "text/html": [
       "<div>\n",
       "<style scoped>\n",
       "    .dataframe tbody tr th:only-of-type {\n",
       "        vertical-align: middle;\n",
       "    }\n",
       "\n",
       "    .dataframe tbody tr th {\n",
       "        vertical-align: top;\n",
       "    }\n",
       "\n",
       "    .dataframe thead th {\n",
       "        text-align: right;\n",
       "    }\n",
       "</style>\n",
       "<table border=\"1\" class=\"dataframe\">\n",
       "  <thead>\n",
       "    <tr style=\"text-align: right;\">\n",
       "      <th></th>\n",
       "      <th>Title</th>\n",
       "      <th>YearOfRelease</th>\n",
       "      <th>Predicted_Rating</th>\n",
       "    </tr>\n",
       "  </thead>\n",
       "  <tbody>\n",
       "    <tr>\n",
       "      <th>440</th>\n",
       "      <td>The Best of Friends: Vol. 4</td>\n",
       "      <td>1994.0</td>\n",
       "      <td>4.912014</td>\n",
       "    </tr>\n",
       "    <tr>\n",
       "      <th>213</th>\n",
       "      <td>The Simpsons: Season 1</td>\n",
       "      <td>1989.0</td>\n",
       "      <td>4.605442</td>\n",
       "    </tr>\n",
       "    <tr>\n",
       "      <th>608</th>\n",
       "      <td>The Recruit</td>\n",
       "      <td>2003.0</td>\n",
       "      <td>4.592557</td>\n",
       "    </tr>\n",
       "    <tr>\n",
       "      <th>176</th>\n",
       "      <td>Dil Chahta Hai</td>\n",
       "      <td>2001.0</td>\n",
       "      <td>4.555253</td>\n",
       "    </tr>\n",
       "    <tr>\n",
       "      <th>264</th>\n",
       "      <td>Coach Carter</td>\n",
       "      <td>2005.0</td>\n",
       "      <td>4.547403</td>\n",
       "    </tr>\n",
       "  </tbody>\n",
       "</table>\n",
       "</div>"
      ],
      "text/plain": [
       "                           Title  YearOfRelease  Predicted_Rating\n",
       "440  The Best of Friends: Vol. 4         1994.0          4.912014\n",
       "213       The Simpsons: Season 1         1989.0          4.605442\n",
       "608                  The Recruit         2003.0          4.592557\n",
       "176               Dil Chahta Hai         2001.0          4.555253\n",
       "264                 Coach Carter         2005.0          4.547403"
      ]
     },
     "execution_count": 498,
     "metadata": {},
     "output_type": "execute_result"
    }
   ],
   "source": [
    "# Recommend 5 movies for customer 804974:\n",
    "top = 5\n",
    "recommend(df_400_3, svdpp, 804974, top)"
   ]
  },
  {
   "cell_type": "code",
   "execution_count": 492,
   "metadata": {},
   "outputs": [
    {
     "name": "stdout",
     "output_type": "stream",
     "text": [
      "user: 1488844    item: 1          r_ui = 3.00   est = 3.32   {'was_impossible': False}\n",
      "The predicted rating for customer 1488844 on moive 1 is: 3.32\n"
     ]
    }
   ],
   "source": [
    "# Predict the rating for user 1488844 on movie 1: \n",
    "uid = str(1488844) \n",
    "iid = str(1)\n",
    "pred = svdpp.predict(uid, iid, r_ui=3, verbose=True)\n",
    "print('The predicted rating for customer %s on moive %s is:'%(uid, iid), round(pred[3],2))"
   ]
  },
  {
   "cell_type": "code",
   "execution_count": 491,
   "metadata": {},
   "outputs": [
    {
     "name": "stdout",
     "output_type": "stream",
     "text": [
      "user: 822109     item: 1          r_ui = 5.00   est = 3.54   {'was_impossible': False}\n",
      "The predicted rating for customer 822109 on moive 1 is: 3.54\n"
     ]
    }
   ],
   "source": [
    "# Predict the rating for user 822109 on movie 1: \n",
    "uid = str(822109) \n",
    "iid = str(1)\n",
    "\n",
    "pred = svdpp.predict(uid, iid, r_ui=5, verbose=True)\n",
    "print('The predicted rating for customer %s on moive %s is:'%(uid, iid), round(pred[3],2))"
   ]
  },
  {
   "cell_type": "code",
   "execution_count": 490,
   "metadata": {},
   "outputs": [
    {
     "name": "stdout",
     "output_type": "stream",
     "text": [
      "user: 885013     item: 1          r_ui = 4.00   est = 3.78   {'was_impossible': False}\n",
      "The predicted rating for customer 885013 on moive 1 is: 3.78\n"
     ]
    }
   ],
   "source": [
    "# Predict the rating for user 885013 on movie 1: \n",
    "uid = str(885013)\n",
    "iid = str(1)\n",
    "\n",
    "pred = svdpp.predict(uid, iid, r_ui=4, verbose=True)\n",
    "print('The predicted rating for customer %s on moive %s is:'%(uid, iid), round(pred[3],2))"
   ]
  }
 ],
 "metadata": {
  "kernelspec": {
   "display_name": "Python 3",
   "language": "python",
   "name": "python3"
  },
  "language_info": {
   "codemirror_mode": {
    "name": "ipython",
    "version": 3
   },
   "file_extension": ".py",
   "mimetype": "text/x-python",
   "name": "python",
   "nbconvert_exporter": "python",
   "pygments_lexer": "ipython3",
   "version": "3.6.9"
  }
 },
 "nbformat": 4,
 "nbformat_minor": 4
}
